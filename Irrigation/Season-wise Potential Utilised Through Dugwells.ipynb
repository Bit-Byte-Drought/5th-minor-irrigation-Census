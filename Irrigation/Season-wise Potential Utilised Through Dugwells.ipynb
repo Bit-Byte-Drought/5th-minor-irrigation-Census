{
 "cells": [
  {
   "cell_type": "markdown",
   "metadata": {},
   "source": [
    "# Season-wise Potential Utilised Through Dugwells\n",
    "So, basically there are three datasets with almost similar names matching the above heading.  \n",
    "Let's just dig deep into these for a start."
   ]
  },
  {
   "cell_type": "code",
   "execution_count": 1,
   "metadata": {},
   "outputs": [],
   "source": [
    "import pandas as pd\n",
    "df1 = pd.read_csv('Season wise Potential Utilised (in use) Through Dugwells for 5th Minor Irrigation Census (2013-14).csv')\n",
    "df2 = pd.read_csv('Season wise Potential Utilised (Temporary not in use) Through Dugwells for 5th Minor Irrigation Census (2013-14).csv')\n",
    "df3 = pd.read_csv('Season wise Potential Utilised Through All Dugwells for 5th Minor Irrigation Census (2013-14).csv')"
   ]
  },
  {
   "cell_type": "markdown",
   "metadata": {},
   "source": [
    "df1 - In use  \n",
    "df2 - Temporary not in use  \n",
    "df3 - All"
   ]
  },
  {
   "cell_type": "code",
   "execution_count": 2,
   "metadata": {},
   "outputs": [
    {
     "data": {
      "text/plain": [
       "array([ True,  True,  True,  True,  True,  True,  True,  True,  True,\n",
       "        True,  True,  True])"
      ]
     },
     "execution_count": 2,
     "metadata": {},
     "output_type": "execute_result"
    }
   ],
   "source": [
    "df1.columns == df2.columns"
   ]
  },
  {
   "cell_type": "code",
   "execution_count": 3,
   "metadata": {},
   "outputs": [
    {
     "data": {
      "text/plain": [
       "array([ True,  True,  True,  True,  True,  True,  True,  True,  True,\n",
       "        True,  True,  True])"
      ]
     },
     "execution_count": 3,
     "metadata": {},
     "output_type": "execute_result"
    }
   ],
   "source": [
    "df3.columns == df2.columns"
   ]
  },
  {
   "cell_type": "markdown",
   "metadata": {},
   "source": [
    "Column names are the same across.  "
   ]
  },
  {
   "cell_type": "code",
   "execution_count": 4,
   "metadata": {},
   "outputs": [
    {
     "data": {
      "text/plain": [
       "(213392, 12)"
      ]
     },
     "execution_count": 4,
     "metadata": {},
     "output_type": "execute_result"
    }
   ],
   "source": [
    "df1.shape"
   ]
  },
  {
   "cell_type": "code",
   "execution_count": 5,
   "metadata": {},
   "outputs": [
    {
     "data": {
      "text/plain": [
       "(34138, 12)"
      ]
     },
     "execution_count": 5,
     "metadata": {},
     "output_type": "execute_result"
    }
   ],
   "source": [
    "df2.shape"
   ]
  },
  {
   "cell_type": "code",
   "execution_count": 6,
   "metadata": {},
   "outputs": [
    {
     "data": {
      "text/plain": [
       "(222992, 12)"
      ]
     },
     "execution_count": 6,
     "metadata": {},
     "output_type": "execute_result"
    }
   ],
   "source": [
    "df3.shape"
   ]
  },
  {
   "cell_type": "markdown",
   "metadata": {},
   "source": [
    "That's a big NO.  \n",
    "So we'll have to melt these three down to one.  \n",
    "Let's check the smaller ones with the largest."
   ]
  },
  {
   "cell_type": "code",
   "execution_count": 7,
   "metadata": {},
   "outputs": [
    {
     "data": {
      "text/plain": [
       "247530"
      ]
     },
     "execution_count": 7,
     "metadata": {},
     "output_type": "execute_result"
    }
   ],
   "source": [
    "df1.shape[0] + df2.shape[0]"
   ]
  },
  {
   "cell_type": "markdown",
   "metadata": {},
   "source": [
    "In use + not in use do not give us all.  \n",
    "So we'll have to exclude everything not in use in our final dataset and include anything that's left."
   ]
  },
  {
   "cell_type": "code",
   "execution_count": 8,
   "metadata": {},
   "outputs": [
    {
     "data": {
      "text/html": [
       "<div>\n",
       "<style scoped>\n",
       "    .dataframe tbody tr th:only-of-type {\n",
       "        vertical-align: middle;\n",
       "    }\n",
       "\n",
       "    .dataframe tbody tr th {\n",
       "        vertical-align: top;\n",
       "    }\n",
       "\n",
       "    .dataframe thead th {\n",
       "        text-align: right;\n",
       "    }\n",
       "</style>\n",
       "<table border=\"1\" class=\"dataframe\">\n",
       "  <thead>\n",
       "    <tr style=\"text-align: right;\">\n",
       "      <th></th>\n",
       "      <th>State</th>\n",
       "      <th>District</th>\n",
       "      <th>Block/Tehsil</th>\n",
       "      <th>Village</th>\n",
       "      <th>Area irrigated during 2013-2014 - Inside Command of Major/Medium Project - Kharif</th>\n",
       "      <th>Area irrigated during 2013-2014 - Inside Command of Major/Medium Project - Rabi</th>\n",
       "      <th>Area irrigated during 2013-2014 - Inside Command of Major/Medium Project - Perennial</th>\n",
       "      <th>Area irrigated during 2013-2014 - Inside Command of Major/Medium Project - Others</th>\n",
       "      <th>Area irrigated during 2013-2014 - Outside Command - Kharif</th>\n",
       "      <th>Area irrigated during 2013-2014 - Outside Command - Rabi</th>\n",
       "      <th>Area irrigated during 2013-2014 - Outside Command - Perennial</th>\n",
       "      <th>Area irrigated during 2013-2014 - Outside Command - Others</th>\n",
       "    </tr>\n",
       "  </thead>\n",
       "  <tbody>\n",
       "    <tr>\n",
       "      <th>0</th>\n",
       "      <td>ANDAMAN &amp; NICOBARS</td>\n",
       "      <td>NICOBAR</td>\n",
       "      <td>CAMPBELL BAY</td>\n",
       "      <td>Govind Nagar</td>\n",
       "      <td>0.0</td>\n",
       "      <td>0.0</td>\n",
       "      <td>0.0</td>\n",
       "      <td>0.0</td>\n",
       "      <td>2.48</td>\n",
       "      <td>2.92</td>\n",
       "      <td>0.0</td>\n",
       "      <td>0.0</td>\n",
       "    </tr>\n",
       "    <tr>\n",
       "      <th>1</th>\n",
       "      <td>ANDAMAN &amp; NICOBARS</td>\n",
       "      <td>NICOBAR</td>\n",
       "      <td>CAMPBELL BAY</td>\n",
       "      <td>Joginder Nagar</td>\n",
       "      <td>0.0</td>\n",
       "      <td>0.0</td>\n",
       "      <td>0.0</td>\n",
       "      <td>0.0</td>\n",
       "      <td>1.30</td>\n",
       "      <td>2.20</td>\n",
       "      <td>0.0</td>\n",
       "      <td>0.0</td>\n",
       "    </tr>\n",
       "    <tr>\n",
       "      <th>2</th>\n",
       "      <td>ANDAMAN &amp; NICOBARS</td>\n",
       "      <td>NICOBAR</td>\n",
       "      <td>CAMPBELL BAY</td>\n",
       "      <td>Sashtri Nagar</td>\n",
       "      <td>0.0</td>\n",
       "      <td>0.0</td>\n",
       "      <td>0.0</td>\n",
       "      <td>0.0</td>\n",
       "      <td>0.50</td>\n",
       "      <td>1.00</td>\n",
       "      <td>0.0</td>\n",
       "      <td>0.0</td>\n",
       "    </tr>\n",
       "    <tr>\n",
       "      <th>3</th>\n",
       "      <td>ANDAMAN &amp; NICOBARS</td>\n",
       "      <td>NICOBAR</td>\n",
       "      <td>CAR NICOBAR</td>\n",
       "      <td>Big Lapati</td>\n",
       "      <td>0.0</td>\n",
       "      <td>0.0</td>\n",
       "      <td>0.0</td>\n",
       "      <td>0.0</td>\n",
       "      <td>0.63</td>\n",
       "      <td>0.32</td>\n",
       "      <td>0.0</td>\n",
       "      <td>0.0</td>\n",
       "    </tr>\n",
       "    <tr>\n",
       "      <th>4</th>\n",
       "      <td>ANDAMAN &amp; NICOBARS</td>\n",
       "      <td>NICOBAR</td>\n",
       "      <td>CAR NICOBAR</td>\n",
       "      <td>Chuckchucha</td>\n",
       "      <td>0.0</td>\n",
       "      <td>0.0</td>\n",
       "      <td>0.0</td>\n",
       "      <td>0.0</td>\n",
       "      <td>1.71</td>\n",
       "      <td>0.27</td>\n",
       "      <td>0.0</td>\n",
       "      <td>0.0</td>\n",
       "    </tr>\n",
       "  </tbody>\n",
       "</table>\n",
       "</div>"
      ],
      "text/plain": [
       "                State District  Block/Tehsil         Village  \\\n",
       "0  ANDAMAN & NICOBARS  NICOBAR  CAMPBELL BAY    Govind Nagar   \n",
       "1  ANDAMAN & NICOBARS  NICOBAR  CAMPBELL BAY  Joginder Nagar   \n",
       "2  ANDAMAN & NICOBARS  NICOBAR  CAMPBELL BAY   Sashtri Nagar   \n",
       "3  ANDAMAN & NICOBARS  NICOBAR   CAR NICOBAR      Big Lapati   \n",
       "4  ANDAMAN & NICOBARS  NICOBAR   CAR NICOBAR     Chuckchucha   \n",
       "\n",
       "   Area irrigated during 2013-2014 - Inside Command of Major/Medium Project - Kharif  \\\n",
       "0                                                0.0                                   \n",
       "1                                                0.0                                   \n",
       "2                                                0.0                                   \n",
       "3                                                0.0                                   \n",
       "4                                                0.0                                   \n",
       "\n",
       "   Area irrigated during 2013-2014 - Inside Command of Major/Medium Project - Rabi  \\\n",
       "0                                                0.0                                 \n",
       "1                                                0.0                                 \n",
       "2                                                0.0                                 \n",
       "3                                                0.0                                 \n",
       "4                                                0.0                                 \n",
       "\n",
       "   Area irrigated during 2013-2014 - Inside Command of Major/Medium Project - Perennial  \\\n",
       "0                                                0.0                                      \n",
       "1                                                0.0                                      \n",
       "2                                                0.0                                      \n",
       "3                                                0.0                                      \n",
       "4                                                0.0                                      \n",
       "\n",
       "   Area irrigated during 2013-2014 - Inside Command of Major/Medium Project - Others  \\\n",
       "0                                                0.0                                   \n",
       "1                                                0.0                                   \n",
       "2                                                0.0                                   \n",
       "3                                                0.0                                   \n",
       "4                                                0.0                                   \n",
       "\n",
       "   Area irrigated during 2013-2014 - Outside Command - Kharif  \\\n",
       "0                                               2.48            \n",
       "1                                               1.30            \n",
       "2                                               0.50            \n",
       "3                                               0.63            \n",
       "4                                               1.71            \n",
       "\n",
       "   Area irrigated during 2013-2014 - Outside Command - Rabi  \\\n",
       "0                                               2.92          \n",
       "1                                               2.20          \n",
       "2                                               1.00          \n",
       "3                                               0.32          \n",
       "4                                               0.27          \n",
       "\n",
       "   Area irrigated during 2013-2014 - Outside Command - Perennial  \\\n",
       "0                                                0.0               \n",
       "1                                                0.0               \n",
       "2                                                0.0               \n",
       "3                                                0.0               \n",
       "4                                                0.0               \n",
       "\n",
       "   Area irrigated during 2013-2014 - Outside Command - Others  \n",
       "0                                                0.0           \n",
       "1                                                0.0           \n",
       "2                                                0.0           \n",
       "3                                                0.0           \n",
       "4                                                0.0           "
      ]
     },
     "execution_count": 8,
     "metadata": {},
     "output_type": "execute_result"
    }
   ],
   "source": [
    "df1.head()"
   ]
  },
  {
   "cell_type": "code",
   "execution_count": 9,
   "metadata": {},
   "outputs": [
    {
     "data": {
      "text/html": [
       "<div>\n",
       "<style scoped>\n",
       "    .dataframe tbody tr th:only-of-type {\n",
       "        vertical-align: middle;\n",
       "    }\n",
       "\n",
       "    .dataframe tbody tr th {\n",
       "        vertical-align: top;\n",
       "    }\n",
       "\n",
       "    .dataframe thead th {\n",
       "        text-align: right;\n",
       "    }\n",
       "</style>\n",
       "<table border=\"1\" class=\"dataframe\">\n",
       "  <thead>\n",
       "    <tr style=\"text-align: right;\">\n",
       "      <th></th>\n",
       "      <th>State</th>\n",
       "      <th>District</th>\n",
       "      <th>Block/Tehsil</th>\n",
       "      <th>Village</th>\n",
       "      <th>Area irrigated during 2013-2014 - Inside Command of Major/Medium Project - Kharif</th>\n",
       "      <th>Area irrigated during 2013-2014 - Inside Command of Major/Medium Project - Rabi</th>\n",
       "      <th>Area irrigated during 2013-2014 - Inside Command of Major/Medium Project - Perennial</th>\n",
       "      <th>Area irrigated during 2013-2014 - Inside Command of Major/Medium Project - Others</th>\n",
       "      <th>Area irrigated during 2013-2014 - Outside Command - Kharif</th>\n",
       "      <th>Area irrigated during 2013-2014 - Outside Command - Rabi</th>\n",
       "      <th>Area irrigated during 2013-2014 - Outside Command - Perennial</th>\n",
       "      <th>Area irrigated during 2013-2014 - Outside Command - Others</th>\n",
       "    </tr>\n",
       "  </thead>\n",
       "  <tbody>\n",
       "    <tr>\n",
       "      <th>0</th>\n",
       "      <td>ANDAMAN &amp; NICOBARS</td>\n",
       "      <td>NICOBAR</td>\n",
       "      <td>CAR NICOBAR</td>\n",
       "      <td>Big Lapati</td>\n",
       "      <td>0.0</td>\n",
       "      <td>0.0</td>\n",
       "      <td>0.0</td>\n",
       "      <td>0.0</td>\n",
       "      <td>0.1</td>\n",
       "      <td>0.10</td>\n",
       "      <td>0.0</td>\n",
       "      <td>0.0</td>\n",
       "    </tr>\n",
       "    <tr>\n",
       "      <th>1</th>\n",
       "      <td>ANDAMAN &amp; NICOBARS</td>\n",
       "      <td>NORTH &amp; MIDDLE ANDAMAN</td>\n",
       "      <td>RANGAT</td>\n",
       "      <td>Adojig</td>\n",
       "      <td>0.0</td>\n",
       "      <td>0.0</td>\n",
       "      <td>0.0</td>\n",
       "      <td>0.0</td>\n",
       "      <td>0.4</td>\n",
       "      <td>0.30</td>\n",
       "      <td>0.2</td>\n",
       "      <td>0.0</td>\n",
       "    </tr>\n",
       "    <tr>\n",
       "      <th>2</th>\n",
       "      <td>ANDAMAN &amp; NICOBARS</td>\n",
       "      <td>NORTH &amp; MIDDLE ANDAMAN</td>\n",
       "      <td>RANGAT</td>\n",
       "      <td>Betapur</td>\n",
       "      <td>0.0</td>\n",
       "      <td>0.0</td>\n",
       "      <td>0.0</td>\n",
       "      <td>0.0</td>\n",
       "      <td>0.0</td>\n",
       "      <td>0.41</td>\n",
       "      <td>0.1</td>\n",
       "      <td>0.0</td>\n",
       "    </tr>\n",
       "    <tr>\n",
       "      <th>3</th>\n",
       "      <td>ANDAMAN &amp; NICOBARS</td>\n",
       "      <td>NORTH &amp; MIDDLE ANDAMAN</td>\n",
       "      <td>RANGAT</td>\n",
       "      <td>Ramachandra nagar</td>\n",
       "      <td>0.0</td>\n",
       "      <td>0.0</td>\n",
       "      <td>0.0</td>\n",
       "      <td>0.0</td>\n",
       "      <td>0.2</td>\n",
       "      <td>0.30</td>\n",
       "      <td>0.0</td>\n",
       "      <td>0.0</td>\n",
       "    </tr>\n",
       "    <tr>\n",
       "      <th>4</th>\n",
       "      <td>ANDAMAN &amp; NICOBARS</td>\n",
       "      <td>SOUTH ANDAMAN</td>\n",
       "      <td>FERRARGUNJ</td>\n",
       "      <td>Namunagarh</td>\n",
       "      <td>0.0</td>\n",
       "      <td>0.0</td>\n",
       "      <td>0.0</td>\n",
       "      <td>0.0</td>\n",
       "      <td>0.1</td>\n",
       "      <td>0.10</td>\n",
       "      <td>0.0</td>\n",
       "      <td>0.0</td>\n",
       "    </tr>\n",
       "  </tbody>\n",
       "</table>\n",
       "</div>"
      ],
      "text/plain": [
       "                State                District Block/Tehsil            Village  \\\n",
       "0  ANDAMAN & NICOBARS                 NICOBAR  CAR NICOBAR         Big Lapati   \n",
       "1  ANDAMAN & NICOBARS  NORTH & MIDDLE ANDAMAN       RANGAT             Adojig   \n",
       "2  ANDAMAN & NICOBARS  NORTH & MIDDLE ANDAMAN       RANGAT            Betapur   \n",
       "3  ANDAMAN & NICOBARS  NORTH & MIDDLE ANDAMAN       RANGAT  Ramachandra nagar   \n",
       "4  ANDAMAN & NICOBARS           SOUTH ANDAMAN   FERRARGUNJ         Namunagarh   \n",
       "\n",
       "   Area irrigated during 2013-2014 - Inside Command of Major/Medium Project - Kharif  \\\n",
       "0                                                0.0                                   \n",
       "1                                                0.0                                   \n",
       "2                                                0.0                                   \n",
       "3                                                0.0                                   \n",
       "4                                                0.0                                   \n",
       "\n",
       "   Area irrigated during 2013-2014 - Inside Command of Major/Medium Project - Rabi  \\\n",
       "0                                                0.0                                 \n",
       "1                                                0.0                                 \n",
       "2                                                0.0                                 \n",
       "3                                                0.0                                 \n",
       "4                                                0.0                                 \n",
       "\n",
       "   Area irrigated during 2013-2014 - Inside Command of Major/Medium Project - Perennial  \\\n",
       "0                                                0.0                                      \n",
       "1                                                0.0                                      \n",
       "2                                                0.0                                      \n",
       "3                                                0.0                                      \n",
       "4                                                0.0                                      \n",
       "\n",
       "   Area irrigated during 2013-2014 - Inside Command of Major/Medium Project - Others  \\\n",
       "0                                                0.0                                   \n",
       "1                                                0.0                                   \n",
       "2                                                0.0                                   \n",
       "3                                                0.0                                   \n",
       "4                                                0.0                                   \n",
       "\n",
       "   Area irrigated during 2013-2014 - Outside Command - Kharif  \\\n",
       "0                                                0.1            \n",
       "1                                                0.4            \n",
       "2                                                0.0            \n",
       "3                                                0.2            \n",
       "4                                                0.1            \n",
       "\n",
       "   Area irrigated during 2013-2014 - Outside Command - Rabi  \\\n",
       "0                                               0.10          \n",
       "1                                               0.30          \n",
       "2                                               0.41          \n",
       "3                                               0.30          \n",
       "4                                               0.10          \n",
       "\n",
       "   Area irrigated during 2013-2014 - Outside Command - Perennial  \\\n",
       "0                                                0.0               \n",
       "1                                                0.2               \n",
       "2                                                0.1               \n",
       "3                                                0.0               \n",
       "4                                                0.0               \n",
       "\n",
       "   Area irrigated during 2013-2014 - Outside Command - Others  \n",
       "0                                                0.0           \n",
       "1                                                0.0           \n",
       "2                                                0.0           \n",
       "3                                                0.0           \n",
       "4                                                0.0           "
      ]
     },
     "execution_count": 9,
     "metadata": {},
     "output_type": "execute_result"
    }
   ],
   "source": [
    "df2.head()"
   ]
  },
  {
   "cell_type": "code",
   "execution_count": 10,
   "metadata": {},
   "outputs": [
    {
     "data": {
      "text/html": [
       "<div>\n",
       "<style scoped>\n",
       "    .dataframe tbody tr th:only-of-type {\n",
       "        vertical-align: middle;\n",
       "    }\n",
       "\n",
       "    .dataframe tbody tr th {\n",
       "        vertical-align: top;\n",
       "    }\n",
       "\n",
       "    .dataframe thead th {\n",
       "        text-align: right;\n",
       "    }\n",
       "</style>\n",
       "<table border=\"1\" class=\"dataframe\">\n",
       "  <thead>\n",
       "    <tr style=\"text-align: right;\">\n",
       "      <th></th>\n",
       "      <th>State</th>\n",
       "      <th>District</th>\n",
       "      <th>Block/Tehsil</th>\n",
       "      <th>Village</th>\n",
       "      <th>Area irrigated during 2013-2014 - Inside Command of Major/Medium Project - Kharif</th>\n",
       "      <th>Area irrigated during 2013-2014 - Inside Command of Major/Medium Project - Rabi</th>\n",
       "      <th>Area irrigated during 2013-2014 - Inside Command of Major/Medium Project - Perennial</th>\n",
       "      <th>Area irrigated during 2013-2014 - Inside Command of Major/Medium Project - Others</th>\n",
       "      <th>Area irrigated during 2013-2014 - Outside Command - Kharif</th>\n",
       "      <th>Area irrigated during 2013-2014 - Outside Command - Rabi</th>\n",
       "      <th>Area irrigated during 2013-2014 - Outside Command - Perennial</th>\n",
       "      <th>Area irrigated during 2013-2014 - Outside Command - Others</th>\n",
       "    </tr>\n",
       "  </thead>\n",
       "  <tbody>\n",
       "    <tr>\n",
       "      <th>0</th>\n",
       "      <td>ANDAMAN &amp; NICOBARS</td>\n",
       "      <td>NICOBAR</td>\n",
       "      <td>CAMPBELL BAY</td>\n",
       "      <td>Govind Nagar</td>\n",
       "      <td>0.0</td>\n",
       "      <td>0.0</td>\n",
       "      <td>0.0</td>\n",
       "      <td>0.0</td>\n",
       "      <td>2.48</td>\n",
       "      <td>2.92</td>\n",
       "      <td>0.0</td>\n",
       "      <td>0.0</td>\n",
       "    </tr>\n",
       "    <tr>\n",
       "      <th>1</th>\n",
       "      <td>ANDAMAN &amp; NICOBARS</td>\n",
       "      <td>NICOBAR</td>\n",
       "      <td>CAMPBELL BAY</td>\n",
       "      <td>Joginder Nagar</td>\n",
       "      <td>0.0</td>\n",
       "      <td>0.0</td>\n",
       "      <td>0.0</td>\n",
       "      <td>0.0</td>\n",
       "      <td>1.30</td>\n",
       "      <td>2.20</td>\n",
       "      <td>0.0</td>\n",
       "      <td>0.0</td>\n",
       "    </tr>\n",
       "    <tr>\n",
       "      <th>2</th>\n",
       "      <td>ANDAMAN &amp; NICOBARS</td>\n",
       "      <td>NICOBAR</td>\n",
       "      <td>CAMPBELL BAY</td>\n",
       "      <td>Sashtri Nagar</td>\n",
       "      <td>0.0</td>\n",
       "      <td>0.0</td>\n",
       "      <td>0.0</td>\n",
       "      <td>0.0</td>\n",
       "      <td>0.50</td>\n",
       "      <td>1.00</td>\n",
       "      <td>0.0</td>\n",
       "      <td>0.0</td>\n",
       "    </tr>\n",
       "    <tr>\n",
       "      <th>3</th>\n",
       "      <td>ANDAMAN &amp; NICOBARS</td>\n",
       "      <td>NICOBAR</td>\n",
       "      <td>CAR NICOBAR</td>\n",
       "      <td>Big Lapati</td>\n",
       "      <td>0.0</td>\n",
       "      <td>0.0</td>\n",
       "      <td>0.0</td>\n",
       "      <td>0.0</td>\n",
       "      <td>0.73</td>\n",
       "      <td>0.42</td>\n",
       "      <td>0.0</td>\n",
       "      <td>0.0</td>\n",
       "    </tr>\n",
       "    <tr>\n",
       "      <th>4</th>\n",
       "      <td>ANDAMAN &amp; NICOBARS</td>\n",
       "      <td>NICOBAR</td>\n",
       "      <td>CAR NICOBAR</td>\n",
       "      <td>Chuckchucha</td>\n",
       "      <td>0.0</td>\n",
       "      <td>0.0</td>\n",
       "      <td>0.0</td>\n",
       "      <td>0.0</td>\n",
       "      <td>1.71</td>\n",
       "      <td>0.27</td>\n",
       "      <td>0.0</td>\n",
       "      <td>0.0</td>\n",
       "    </tr>\n",
       "  </tbody>\n",
       "</table>\n",
       "</div>"
      ],
      "text/plain": [
       "                State District  Block/Tehsil         Village  \\\n",
       "0  ANDAMAN & NICOBARS  NICOBAR  CAMPBELL BAY    Govind Nagar   \n",
       "1  ANDAMAN & NICOBARS  NICOBAR  CAMPBELL BAY  Joginder Nagar   \n",
       "2  ANDAMAN & NICOBARS  NICOBAR  CAMPBELL BAY   Sashtri Nagar   \n",
       "3  ANDAMAN & NICOBARS  NICOBAR   CAR NICOBAR      Big Lapati   \n",
       "4  ANDAMAN & NICOBARS  NICOBAR   CAR NICOBAR     Chuckchucha   \n",
       "\n",
       "   Area irrigated during 2013-2014 - Inside Command of Major/Medium Project - Kharif  \\\n",
       "0                                                0.0                                   \n",
       "1                                                0.0                                   \n",
       "2                                                0.0                                   \n",
       "3                                                0.0                                   \n",
       "4                                                0.0                                   \n",
       "\n",
       "   Area irrigated during 2013-2014 - Inside Command of Major/Medium Project - Rabi  \\\n",
       "0                                                0.0                                 \n",
       "1                                                0.0                                 \n",
       "2                                                0.0                                 \n",
       "3                                                0.0                                 \n",
       "4                                                0.0                                 \n",
       "\n",
       "   Area irrigated during 2013-2014 - Inside Command of Major/Medium Project - Perennial  \\\n",
       "0                                                0.0                                      \n",
       "1                                                0.0                                      \n",
       "2                                                0.0                                      \n",
       "3                                                0.0                                      \n",
       "4                                                0.0                                      \n",
       "\n",
       "   Area irrigated during 2013-2014 - Inside Command of Major/Medium Project - Others  \\\n",
       "0                                                0.0                                   \n",
       "1                                                0.0                                   \n",
       "2                                                0.0                                   \n",
       "3                                                0.0                                   \n",
       "4                                                0.0                                   \n",
       "\n",
       "   Area irrigated during 2013-2014 - Outside Command - Kharif  \\\n",
       "0                                               2.48            \n",
       "1                                               1.30            \n",
       "2                                               0.50            \n",
       "3                                               0.73            \n",
       "4                                               1.71            \n",
       "\n",
       "   Area irrigated during 2013-2014 - Outside Command - Rabi  \\\n",
       "0                                               2.92          \n",
       "1                                               2.20          \n",
       "2                                               1.00          \n",
       "3                                               0.42          \n",
       "4                                               0.27          \n",
       "\n",
       "   Area irrigated during 2013-2014 - Outside Command - Perennial  \\\n",
       "0                                                0.0               \n",
       "1                                                0.0               \n",
       "2                                                0.0               \n",
       "3                                                0.0               \n",
       "4                                                0.0               \n",
       "\n",
       "   Area irrigated during 2013-2014 - Outside Command - Others  \n",
       "0                                                0.0           \n",
       "1                                                0.0           \n",
       "2                                                0.0           \n",
       "3                                                0.0           \n",
       "4                                                0.0           "
      ]
     },
     "execution_count": 10,
     "metadata": {},
     "output_type": "execute_result"
    }
   ],
   "source": [
    "df3.head()"
   ]
  },
  {
   "cell_type": "code",
   "execution_count": 11,
   "metadata": {},
   "outputs": [
    {
     "data": {
      "text/plain": [
       "State           False\n",
       "District        False\n",
       "Block/Tehsil    False\n",
       "Village         False\n",
       "dtype: bool"
      ]
     },
     "execution_count": 11,
     "metadata": {},
     "output_type": "execute_result"
    }
   ],
   "source": [
    "df1.iloc[:,:4].apply(lambda x : x.is_unique)"
   ]
  },
  {
   "cell_type": "markdown",
   "metadata": {},
   "source": [
    "We don't have a proper indexable column in our data.  \n",
    "Let's try adding a new attribute  for the same by using all the first four attributes."
   ]
  },
  {
   "cell_type": "code",
   "execution_count": 12,
   "metadata": {},
   "outputs": [],
   "source": [
    "def add(x):\n",
    "    for i in range(4):\n",
    "        x[i] = x[i].strip()\n",
    "    return x[0] + '_' + x[1] + '_' + x[2] + '_' + x[3]"
   ]
  },
  {
   "cell_type": "code",
   "execution_count": 13,
   "metadata": {},
   "outputs": [
    {
     "data": {
      "text/plain": [
       "222992"
      ]
     },
     "execution_count": 13,
     "metadata": {},
     "output_type": "execute_result"
    }
   ],
   "source": [
    "df3.index = df3.iloc[:,:4].apply(add, axis = 1)\n",
    "df3.index.nunique()"
   ]
  },
  {
   "cell_type": "code",
   "execution_count": 14,
   "metadata": {},
   "outputs": [
    {
     "data": {
      "text/plain": [
       "(222992, 12)"
      ]
     },
     "execution_count": 14,
     "metadata": {},
     "output_type": "execute_result"
    }
   ],
   "source": [
    "df3.shape"
   ]
  },
  {
   "cell_type": "code",
   "execution_count": 15,
   "metadata": {},
   "outputs": [
    {
     "data": {
      "text/plain": [
       "34138"
      ]
     },
     "execution_count": 15,
     "metadata": {},
     "output_type": "execute_result"
    }
   ],
   "source": [
    "df2.index = df2.iloc[:,:4].apply(add, axis = 1)\n",
    "df2.index.nunique()"
   ]
  },
  {
   "cell_type": "code",
   "execution_count": 16,
   "metadata": {},
   "outputs": [
    {
     "data": {
      "text/plain": [
       "(34138, 12)"
      ]
     },
     "execution_count": 16,
     "metadata": {},
     "output_type": "execute_result"
    }
   ],
   "source": [
    "df2.shape"
   ]
  },
  {
   "cell_type": "code",
   "execution_count": 17,
   "metadata": {},
   "outputs": [
    {
     "data": {
      "text/plain": [
       "213392"
      ]
     },
     "execution_count": 17,
     "metadata": {},
     "output_type": "execute_result"
    }
   ],
   "source": [
    "df1.index = df1.iloc[:,:4].apply(add, axis = 1)\n",
    "df1.index.nunique()"
   ]
  },
  {
   "cell_type": "code",
   "execution_count": 18,
   "metadata": {},
   "outputs": [
    {
     "data": {
      "text/plain": [
       "(213392, 12)"
      ]
     },
     "execution_count": 18,
     "metadata": {},
     "output_type": "execute_result"
    }
   ],
   "source": [
    "df1.shape"
   ]
  },
  {
   "cell_type": "markdown",
   "metadata": {},
   "source": [
    "As you can see that our unique valued index is ready.  \n",
    "It's made out of the first four attributes leaving us with no point to keep the four attributes."
   ]
  },
  {
   "cell_type": "code",
   "execution_count": 19,
   "metadata": {},
   "outputs": [],
   "source": [
    "df1 = df1.drop(columns = df1.columns[:4])\n",
    "df2 = df2.drop(columns = df2.columns[:4])\n",
    "df3 = df3.drop(columns = df3.columns[:4])"
   ]
  },
  {
   "cell_type": "markdown",
   "metadata": {},
   "source": [
    "Now that we've got rid of those, let's do what we're trying to do from the start."
   ]
  },
  {
   "cell_type": "code",
   "execution_count": 20,
   "metadata": {},
   "outputs": [
    {
     "data": {
      "text/plain": [
       "True    34138\n",
       "dtype: int64"
      ]
     },
     "execution_count": 20,
     "metadata": {},
     "output_type": "execute_result"
    }
   ],
   "source": [
    "def check(x, y):\n",
    "    return x in y\n",
    "pd.Series(df2.index).apply(check, y = df3.index).value_counts()"
   ]
  },
  {
   "cell_type": "markdown",
   "metadata": {},
   "source": [
    "That leaves us with the fact that all data points in df2 are present in df3.  \n",
    "If you're wondering how it made sense, compare the number obtained with the length of df2.  \n",
    "Let's check if stuff in df1 is present in df3 which in case does will make sense.  "
   ]
  },
  {
   "cell_type": "code",
   "execution_count": 21,
   "metadata": {},
   "outputs": [
    {
     "data": {
      "text/plain": [
       "True    213392\n",
       "dtype: int64"
      ]
     },
     "execution_count": 21,
     "metadata": {},
     "output_type": "execute_result"
    }
   ],
   "source": [
    "pd.Series(df1.index).apply(check, y = df3.index).value_counts()"
   ]
  },
  {
   "cell_type": "markdown",
   "metadata": {},
   "source": [
    "That's another YES saying all data points present in df1 are present in df3.  \n",
    "Let's check if stuff in df2 is present in df1 which in case does will make sense.  \n",
    "I expect it won't and the number of false will be the difference between the first and last datasets."
   ]
  },
  {
   "cell_type": "code",
   "execution_count": 22,
   "metadata": {},
   "outputs": [
    {
     "data": {
      "text/plain": [
       "True     24538\n",
       "False     9600\n",
       "dtype: int64"
      ]
     },
     "execution_count": 22,
     "metadata": {},
     "output_type": "execute_result"
    }
   ],
   "source": [
    "pd.Series(df2.index).apply(check, y = df1.index).value_counts()"
   ]
  },
  {
   "cell_type": "markdown",
   "metadata": {},
   "source": [
    "As expected, the number of falses is same as the difference between the first and last datasets.  \n",
    "All this leaves us with some facts about the three datasets.  \n",
    "df1 contains the areas in each location that's being irrigated currently using dugwells.  \n",
    "df2 the same but areas that have been temporarily not in use.  \n",
    "df3 contains literally what we get if we summate the other two datasets.  "
   ]
  }
 ],
 "metadata": {
  "kernelspec": {
   "display_name": "Python 3",
   "language": "python",
   "name": "python3"
  },
  "language_info": {
   "codemirror_mode": {
    "name": "ipython",
    "version": 3
   },
   "file_extension": ".py",
   "mimetype": "text/x-python",
   "name": "python",
   "nbconvert_exporter": "python",
   "pygments_lexer": "ipython3",
   "version": "3.7.4"
  }
 },
 "nbformat": 4,
 "nbformat_minor": 2
}
