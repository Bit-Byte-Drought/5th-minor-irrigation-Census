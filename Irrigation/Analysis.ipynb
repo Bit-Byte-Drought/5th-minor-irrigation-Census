{
 "cells": [
  {
   "cell_type": "markdown",
   "metadata": {},
   "source": [
    "# Season-wise Potential Utilised through Dugwells\n",
    "# Analysis of the three datasets\n",
    "Now let's see what do the three datasets show in the plots going to come out"
   ]
  },
  {
   "cell_type": "code",
   "execution_count": 1,
   "metadata": {},
   "outputs": [],
   "source": [
    "import pandas as pd\n",
    "df1 = pd.read_csv('Season wise Potential Utilised (in use) Through Dugwells for 5th Minor Irrigation Census (2013-14).csv', index_col = [x for x in range(4)])\n",
    "df2 = pd.read_csv('Season wise Potential Utilised (Temporary not in use) Through Dugwells for 5th Minor Irrigation Census (2013-14).csv', index_col = [x for x in range(4)])\n",
    "df3 = pd.read_csv('Season wise Potential Utilised Through All Dugwells for 5th Minor Irrigation Census (2013-14).csv', index_col = [x for x in range(4)])"
   ]
  },
  {
   "cell_type": "code",
   "execution_count": 2,
   "metadata": {},
   "outputs": [
    {
     "name": "stdout",
     "output_type": "stream",
     "text": [
      "<class 'pandas.core.frame.DataFrame'>\n",
      "MultiIndex: 213392 entries, ('ANDAMAN & NICOBARS', 'NICOBAR', 'CAMPBELL BAY', 'Govind Nagar') to ('WEST BENGAL', 'UTTAR DINAJPUR', 'RAIGANJ', 'PATOL')\n",
      "Data columns (total 8 columns):\n",
      " #   Column                                                                                Non-Null Count   Dtype  \n",
      "---  ------                                                                                --------------   -----  \n",
      " 0   Area irrigated during 2013-2014 - Inside Command of Major/Medium Project - Kharif     213392 non-null  float64\n",
      " 1   Area irrigated during 2013-2014 - Inside Command of Major/Medium Project - Rabi       213392 non-null  float64\n",
      " 2   Area irrigated during 2013-2014 - Inside Command of Major/Medium Project - Perennial  213392 non-null  float64\n",
      " 3   Area irrigated during 2013-2014 - Inside Command of Major/Medium Project - Others     213392 non-null  float64\n",
      " 4   Area irrigated during 2013-2014 - Outside Command - Kharif                            213392 non-null  float64\n",
      " 5   Area irrigated during 2013-2014 - Outside Command - Rabi                              213392 non-null  float64\n",
      " 6   Area irrigated during 2013-2014 - Outside Command - Perennial                         213392 non-null  float64\n",
      " 7   Area irrigated during 2013-2014 - Outside Command - Others                            213392 non-null  float64\n",
      "dtypes: float64(8)\n",
      "memory usage: 16.1+ MB\n"
     ]
    }
   ],
   "source": [
    "df1.info()"
   ]
  },
  {
   "cell_type": "code",
   "execution_count": 3,
   "metadata": {},
   "outputs": [
    {
     "data": {
      "text/plain": [
       "0"
      ]
     },
     "execution_count": 3,
     "metadata": {},
     "output_type": "execute_result"
    }
   ],
   "source": [
    "df2.isna().sum().sum()"
   ]
  },
  {
   "cell_type": "code",
   "execution_count": 4,
   "metadata": {},
   "outputs": [
    {
     "data": {
      "text/plain": [
       "0"
      ]
     },
     "execution_count": 4,
     "metadata": {},
     "output_type": "execute_result"
    }
   ],
   "source": [
    "df3.isna().sum().sum()"
   ]
  },
  {
   "cell_type": "markdown",
   "metadata": {},
   "source": [
    "As we see in the info of the first dataset, there are 8 attributes of the datatype float which are all Multi-indexed with their location.  \n",
    "In the other two cases we only get a varied result wrt the length of the dfs and a check for the null values would do."
   ]
  },
  {
   "cell_type": "code",
   "execution_count": null,
   "metadata": {},
   "outputs": [],
   "source": []
  }
 ],
 "metadata": {
  "kernelspec": {
   "display_name": "Python 3",
   "language": "python",
   "name": "python3"
  },
  "language_info": {
   "codemirror_mode": {
    "name": "ipython",
    "version": 3
   },
   "file_extension": ".py",
   "mimetype": "text/x-python",
   "name": "python",
   "nbconvert_exporter": "python",
   "pygments_lexer": "ipython3",
   "version": "3.7.4"
  }
 },
 "nbformat": 4,
 "nbformat_minor": 2
}
