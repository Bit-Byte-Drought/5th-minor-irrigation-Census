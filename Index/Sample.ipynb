{
 "cells": [
  {
   "cell_type": "markdown",
   "metadata": {},
   "source": [
    "pip install import_ipynb\n",
    "Use this to install import_ipynb which helps you import ipynb notebooks"
   ]
  },
  {
   "cell_type": "code",
   "execution_count": 1,
   "metadata": {},
   "outputs": [
    {
     "name": "stdout",
     "output_type": "stream",
     "text": [
      "importing Jupyter notebook from Index.ipynb\n"
     ]
    }
   ],
   "source": [
    "import import_ipynb\n",
    "import Index"
   ]
  },
  {
   "cell_type": "code",
   "execution_count": 2,
   "metadata": {},
   "outputs": [],
   "source": [
    "import pandas as pd\n",
    "df = pd.read_csv('Sample.csv')"
   ]
  },
  {
   "cell_type": "code",
   "execution_count": 3,
   "metadata": {},
   "outputs": [],
   "source": [
    "df = Index.clean(df)"
   ]
  },
  {
   "cell_type": "code",
   "execution_count": 4,
   "metadata": {},
   "outputs": [
    {
     "data": {
      "text/html": [
       "<div>\n",
       "<style scoped>\n",
       "    .dataframe tbody tr th:only-of-type {\n",
       "        vertical-align: middle;\n",
       "    }\n",
       "\n",
       "    .dataframe tbody tr th {\n",
       "        vertical-align: top;\n",
       "    }\n",
       "\n",
       "    .dataframe thead th {\n",
       "        text-align: right;\n",
       "    }\n",
       "</style>\n",
       "<table border=\"1\" class=\"dataframe\">\n",
       "  <thead>\n",
       "    <tr style=\"text-align: right;\">\n",
       "      <th></th>\n",
       "      <th>State</th>\n",
       "      <th>District</th>\n",
       "      <th>Block/Tehsil</th>\n",
       "      <th>Village</th>\n",
       "      <th>Pucca</th>\n",
       "      <th>Kutcha</th>\n",
       "      <th>Dug-cum bore well</th>\n",
       "      <th>Others</th>\n",
       "    </tr>\n",
       "    <tr>\n",
       "      <th>State_District_Block/Tehsil_Village</th>\n",
       "      <th></th>\n",
       "      <th></th>\n",
       "      <th></th>\n",
       "      <th></th>\n",
       "      <th></th>\n",
       "      <th></th>\n",
       "      <th></th>\n",
       "      <th></th>\n",
       "    </tr>\n",
       "  </thead>\n",
       "  <tbody>\n",
       "    <tr>\n",
       "      <th>ANDAMAN &amp; NICOBARS_NICOBAR_CAMPBELL BAY_Govind Nagar</th>\n",
       "      <td>ANDAMAN &amp; NICOBARS</td>\n",
       "      <td>NICOBAR</td>\n",
       "      <td>CAMPBELL BAY</td>\n",
       "      <td>Govind Nagar</td>\n",
       "      <td>7</td>\n",
       "      <td>0</td>\n",
       "      <td>0</td>\n",
       "      <td>0</td>\n",
       "    </tr>\n",
       "    <tr>\n",
       "      <th>ANDAMAN &amp; NICOBARS_NICOBAR_CAMPBELL BAY_Joginder Nagar</th>\n",
       "      <td>ANDAMAN &amp; NICOBARS</td>\n",
       "      <td>NICOBAR</td>\n",
       "      <td>CAMPBELL BAY</td>\n",
       "      <td>Joginder Nagar</td>\n",
       "      <td>8</td>\n",
       "      <td>0</td>\n",
       "      <td>0</td>\n",
       "      <td>0</td>\n",
       "    </tr>\n",
       "    <tr>\n",
       "      <th>ANDAMAN &amp; NICOBARS_NICOBAR_CAMPBELL BAY_Sashtri Nagar</th>\n",
       "      <td>ANDAMAN &amp; NICOBARS</td>\n",
       "      <td>NICOBAR</td>\n",
       "      <td>CAMPBELL BAY</td>\n",
       "      <td>Sashtri Nagar</td>\n",
       "      <td>5</td>\n",
       "      <td>0</td>\n",
       "      <td>0</td>\n",
       "      <td>0</td>\n",
       "    </tr>\n",
       "    <tr>\n",
       "      <th>ANDAMAN &amp; NICOBARS_NICOBAR_CAR NICOBAR_Big Lapati</th>\n",
       "      <td>ANDAMAN &amp; NICOBARS</td>\n",
       "      <td>NICOBAR</td>\n",
       "      <td>CAR NICOBAR</td>\n",
       "      <td>Big Lapati</td>\n",
       "      <td>7</td>\n",
       "      <td>2</td>\n",
       "      <td>0</td>\n",
       "      <td>0</td>\n",
       "    </tr>\n",
       "    <tr>\n",
       "      <th>ANDAMAN &amp; NICOBARS_NICOBAR_CAR NICOBAR_Chuckchucha</th>\n",
       "      <td>ANDAMAN &amp; NICOBARS</td>\n",
       "      <td>NICOBAR</td>\n",
       "      <td>CAR NICOBAR</td>\n",
       "      <td>Chuckchucha</td>\n",
       "      <td>15</td>\n",
       "      <td>4</td>\n",
       "      <td>0</td>\n",
       "      <td>0</td>\n",
       "    </tr>\n",
       "  </tbody>\n",
       "</table>\n",
       "</div>"
      ],
      "text/plain": [
       "                                                                 State  \\\n",
       "State_District_Block/Tehsil_Village                                      \n",
       "ANDAMAN & NICOBARS_NICOBAR_CAMPBELL BAY_Govind ...  ANDAMAN & NICOBARS   \n",
       "ANDAMAN & NICOBARS_NICOBAR_CAMPBELL BAY_Joginde...  ANDAMAN & NICOBARS   \n",
       "ANDAMAN & NICOBARS_NICOBAR_CAMPBELL BAY_Sashtri...  ANDAMAN & NICOBARS   \n",
       "ANDAMAN & NICOBARS_NICOBAR_CAR NICOBAR_Big Lapati   ANDAMAN & NICOBARS   \n",
       "ANDAMAN & NICOBARS_NICOBAR_CAR NICOBAR_Chuckchucha  ANDAMAN & NICOBARS   \n",
       "\n",
       "                                                   District  Block/Tehsil  \\\n",
       "State_District_Block/Tehsil_Village                                         \n",
       "ANDAMAN & NICOBARS_NICOBAR_CAMPBELL BAY_Govind ...  NICOBAR  CAMPBELL BAY   \n",
       "ANDAMAN & NICOBARS_NICOBAR_CAMPBELL BAY_Joginde...  NICOBAR  CAMPBELL BAY   \n",
       "ANDAMAN & NICOBARS_NICOBAR_CAMPBELL BAY_Sashtri...  NICOBAR  CAMPBELL BAY   \n",
       "ANDAMAN & NICOBARS_NICOBAR_CAR NICOBAR_Big Lapati   NICOBAR   CAR NICOBAR   \n",
       "ANDAMAN & NICOBARS_NICOBAR_CAR NICOBAR_Chuckchucha  NICOBAR   CAR NICOBAR   \n",
       "\n",
       "                                                           Village  Pucca  \\\n",
       "State_District_Block/Tehsil_Village                                         \n",
       "ANDAMAN & NICOBARS_NICOBAR_CAMPBELL BAY_Govind ...    Govind Nagar      7   \n",
       "ANDAMAN & NICOBARS_NICOBAR_CAMPBELL BAY_Joginde...  Joginder Nagar      8   \n",
       "ANDAMAN & NICOBARS_NICOBAR_CAMPBELL BAY_Sashtri...   Sashtri Nagar      5   \n",
       "ANDAMAN & NICOBARS_NICOBAR_CAR NICOBAR_Big Lapati       Big Lapati      7   \n",
       "ANDAMAN & NICOBARS_NICOBAR_CAR NICOBAR_Chuckchucha     Chuckchucha     15   \n",
       "\n",
       "                                                    Kutcha  Dug-cum bore well  \\\n",
       "State_District_Block/Tehsil_Village                                             \n",
       "ANDAMAN & NICOBARS_NICOBAR_CAMPBELL BAY_Govind ...       0                  0   \n",
       "ANDAMAN & NICOBARS_NICOBAR_CAMPBELL BAY_Joginde...       0                  0   \n",
       "ANDAMAN & NICOBARS_NICOBAR_CAMPBELL BAY_Sashtri...       0                  0   \n",
       "ANDAMAN & NICOBARS_NICOBAR_CAR NICOBAR_Big Lapati        2                  0   \n",
       "ANDAMAN & NICOBARS_NICOBAR_CAR NICOBAR_Chuckchucha       4                  0   \n",
       "\n",
       "                                                    Others  \n",
       "State_District_Block/Tehsil_Village                         \n",
       "ANDAMAN & NICOBARS_NICOBAR_CAMPBELL BAY_Govind ...       0  \n",
       "ANDAMAN & NICOBARS_NICOBAR_CAMPBELL BAY_Joginde...       0  \n",
       "ANDAMAN & NICOBARS_NICOBAR_CAMPBELL BAY_Sashtri...       0  \n",
       "ANDAMAN & NICOBARS_NICOBAR_CAR NICOBAR_Big Lapati        0  \n",
       "ANDAMAN & NICOBARS_NICOBAR_CAR NICOBAR_Chuckchucha       0  "
      ]
     },
     "execution_count": 4,
     "metadata": {},
     "output_type": "execute_result"
    }
   ],
   "source": [
    "df.head()"
   ]
  },
  {
   "cell_type": "markdown",
   "metadata": {},
   "source": [
    "Doing all this, you could use my def wherever you want to just by import that notebook.  \n",
    "Remember that you should have the other notebook on the same folder as the one you're importing."
   ]
  }
 ],
 "metadata": {
  "kernelspec": {
   "display_name": "Python 3",
   "language": "python",
   "name": "python3"
  },
  "language_info": {
   "codemirror_mode": {
    "name": "ipython",
    "version": 3
   },
   "file_extension": ".py",
   "mimetype": "text/x-python",
   "name": "python",
   "nbconvert_exporter": "python",
   "pygments_lexer": "ipython3",
   "version": "3.7.4"
  }
 },
 "nbformat": 4,
 "nbformat_minor": 2
}
