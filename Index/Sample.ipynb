{
 "cells": [
  {
   "cell_type": "code",
   "execution_count": 1,
   "metadata": {},
   "outputs": [],
   "source": [
    "import Clean"
   ]
  },
  {
   "cell_type": "code",
   "execution_count": 2,
   "metadata": {},
   "outputs": [],
   "source": [
    "import pandas as pd\n",
    "df = pd.read_csv('Sample.csv')"
   ]
  },
  {
   "cell_type": "code",
   "execution_count": 3,
   "metadata": {},
   "outputs": [],
   "source": [
    "df = Clean.clean(df)"
   ]
  },
  {
   "cell_type": "code",
   "execution_count": 4,
   "metadata": {},
   "outputs": [
    {
     "data": {
      "text/html": [
       "<div>\n",
       "<style scoped>\n",
       "    .dataframe tbody tr th:only-of-type {\n",
       "        vertical-align: middle;\n",
       "    }\n",
       "\n",
       "    .dataframe tbody tr th {\n",
       "        vertical-align: top;\n",
       "    }\n",
       "\n",
       "    .dataframe thead th {\n",
       "        text-align: right;\n",
       "    }\n",
       "</style>\n",
       "<table border=\"1\" class=\"dataframe\">\n",
       "  <thead>\n",
       "    <tr style=\"text-align: right;\">\n",
       "      <th></th>\n",
       "      <th>Pucca</th>\n",
       "      <th>Kutcha</th>\n",
       "      <th>Dug-cum bore well</th>\n",
       "      <th>Others</th>\n",
       "    </tr>\n",
       "    <tr>\n",
       "      <th>State_District_Block/Tehsil_Village</th>\n",
       "      <th></th>\n",
       "      <th></th>\n",
       "      <th></th>\n",
       "      <th></th>\n",
       "    </tr>\n",
       "  </thead>\n",
       "  <tbody>\n",
       "    <tr>\n",
       "      <th>ANDAMAN &amp; NICOBARS_NICOBAR_CAMPBELL BAY_Govind Nagar</th>\n",
       "      <td>7</td>\n",
       "      <td>0</td>\n",
       "      <td>0</td>\n",
       "      <td>0</td>\n",
       "    </tr>\n",
       "    <tr>\n",
       "      <th>ANDAMAN &amp; NICOBARS_NICOBAR_CAMPBELL BAY_Joginder Nagar</th>\n",
       "      <td>8</td>\n",
       "      <td>0</td>\n",
       "      <td>0</td>\n",
       "      <td>0</td>\n",
       "    </tr>\n",
       "    <tr>\n",
       "      <th>ANDAMAN &amp; NICOBARS_NICOBAR_CAMPBELL BAY_Sashtri Nagar</th>\n",
       "      <td>5</td>\n",
       "      <td>0</td>\n",
       "      <td>0</td>\n",
       "      <td>0</td>\n",
       "    </tr>\n",
       "    <tr>\n",
       "      <th>ANDAMAN &amp; NICOBARS_NICOBAR_CAR NICOBAR_Big Lapati</th>\n",
       "      <td>7</td>\n",
       "      <td>2</td>\n",
       "      <td>0</td>\n",
       "      <td>0</td>\n",
       "    </tr>\n",
       "    <tr>\n",
       "      <th>ANDAMAN &amp; NICOBARS_NICOBAR_CAR NICOBAR_Chuckchucha</th>\n",
       "      <td>15</td>\n",
       "      <td>4</td>\n",
       "      <td>0</td>\n",
       "      <td>0</td>\n",
       "    </tr>\n",
       "  </tbody>\n",
       "</table>\n",
       "</div>"
      ],
      "text/plain": [
       "                                                    Pucca  Kutcha  \\\n",
       "State_District_Block/Tehsil_Village                                 \n",
       "ANDAMAN & NICOBARS_NICOBAR_CAMPBELL BAY_Govind ...      7       0   \n",
       "ANDAMAN & NICOBARS_NICOBAR_CAMPBELL BAY_Joginde...      8       0   \n",
       "ANDAMAN & NICOBARS_NICOBAR_CAMPBELL BAY_Sashtri...      5       0   \n",
       "ANDAMAN & NICOBARS_NICOBAR_CAR NICOBAR_Big Lapati       7       2   \n",
       "ANDAMAN & NICOBARS_NICOBAR_CAR NICOBAR_Chuckchucha     15       4   \n",
       "\n",
       "                                                    Dug-cum bore well  Others  \n",
       "State_District_Block/Tehsil_Village                                            \n",
       "ANDAMAN & NICOBARS_NICOBAR_CAMPBELL BAY_Govind ...                  0       0  \n",
       "ANDAMAN & NICOBARS_NICOBAR_CAMPBELL BAY_Joginde...                  0       0  \n",
       "ANDAMAN & NICOBARS_NICOBAR_CAMPBELL BAY_Sashtri...                  0       0  \n",
       "ANDAMAN & NICOBARS_NICOBAR_CAR NICOBAR_Big Lapati                   0       0  \n",
       "ANDAMAN & NICOBARS_NICOBAR_CAR NICOBAR_Chuckchucha                  0       0  "
      ]
     },
     "execution_count": 4,
     "metadata": {},
     "output_type": "execute_result"
    }
   ],
   "source": [
    "df.head()"
   ]
  },
  {
   "cell_type": "markdown",
   "metadata": {},
   "source": [
    "Doing all this, you could use my def wherever you want to just by import that notebook.  \n",
    "Just copy the file Index.py to wherever you're gonna use this.  \n",
    "Remember that you should have the py file on the same folder as the one you're importing."
   ]
  }
 ],
 "metadata": {
  "kernelspec": {
   "display_name": "Python 3",
   "language": "python",
   "name": "python3"
  },
  "language_info": {
   "codemirror_mode": {
    "name": "ipython",
    "version": 3
   },
   "file_extension": ".py",
   "mimetype": "text/x-python",
   "name": "python",
   "nbconvert_exporter": "python",
   "pygments_lexer": "ipython3",
   "version": "3.7.4"
  }
 },
 "nbformat": 4,
 "nbformat_minor": 2
}
