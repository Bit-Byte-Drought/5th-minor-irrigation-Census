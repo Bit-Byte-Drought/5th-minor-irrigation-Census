{
 "cells": [
  {
   "cell_type": "markdown",
   "metadata": {},
   "source": []
  },
  {
   "cell_type": "code",
   "execution_count": 2,
   "metadata": {},
   "outputs": [],
   "source": [
    "import pandas as pd\n",
    "df = pd.read_csv('../Number of Dugwells by Type for 5th Minor Irrigation Census (2013-14).csv')"
   ]
  },
  {
   "cell_type": "code",
   "execution_count": 3,
   "metadata": {},
   "outputs": [
    {
     "data": {
      "text/html": [
       "<div>\n",
       "<style scoped>\n",
       "    .dataframe tbody tr th:only-of-type {\n",
       "        vertical-align: middle;\n",
       "    }\n",
       "\n",
       "    .dataframe tbody tr th {\n",
       "        vertical-align: top;\n",
       "    }\n",
       "\n",
       "    .dataframe thead th {\n",
       "        text-align: right;\n",
       "    }\n",
       "</style>\n",
       "<table border=\"1\" class=\"dataframe\">\n",
       "  <thead>\n",
       "    <tr style=\"text-align: right;\">\n",
       "      <th></th>\n",
       "      <th>State</th>\n",
       "      <th>District</th>\n",
       "      <th>Block/Tehsil</th>\n",
       "      <th>Village</th>\n",
       "      <th>Pucca</th>\n",
       "      <th>Kutcha</th>\n",
       "      <th>Dug-cum bore well</th>\n",
       "      <th>Others</th>\n",
       "    </tr>\n",
       "  </thead>\n",
       "  <tbody>\n",
       "    <tr>\n",
       "      <th>0</th>\n",
       "      <td>ANDHRA PRADESH</td>\n",
       "      <td>Krishna</td>\n",
       "      <td>A.Konduru</td>\n",
       "      <td>A.Konduru</td>\n",
       "      <td>0</td>\n",
       "      <td>0</td>\n",
       "      <td>4</td>\n",
       "      <td>0</td>\n",
       "    </tr>\n",
       "    <tr>\n",
       "      <th>1</th>\n",
       "      <td>ANDHRA PRADESH</td>\n",
       "      <td>Krishna</td>\n",
       "      <td>A.Konduru</td>\n",
       "      <td>Atlapragada</td>\n",
       "      <td>0</td>\n",
       "      <td>0</td>\n",
       "      <td>11</td>\n",
       "      <td>0</td>\n",
       "    </tr>\n",
       "    <tr>\n",
       "      <th>2</th>\n",
       "      <td>ANDHRA PRADESH</td>\n",
       "      <td>Krishna</td>\n",
       "      <td>A.Konduru</td>\n",
       "      <td>Cheemalapadu</td>\n",
       "      <td>0</td>\n",
       "      <td>0</td>\n",
       "      <td>23</td>\n",
       "      <td>0</td>\n",
       "    </tr>\n",
       "    <tr>\n",
       "      <th>3</th>\n",
       "      <td>ANDHRA PRADESH</td>\n",
       "      <td>Krishna</td>\n",
       "      <td>A.Konduru</td>\n",
       "      <td>Gollamandala</td>\n",
       "      <td>11</td>\n",
       "      <td>6</td>\n",
       "      <td>7</td>\n",
       "      <td>0</td>\n",
       "    </tr>\n",
       "    <tr>\n",
       "      <th>4</th>\n",
       "      <td>ANDHRA PRADESH</td>\n",
       "      <td>Krishna</td>\n",
       "      <td>A.Konduru</td>\n",
       "      <td>Koduru</td>\n",
       "      <td>0</td>\n",
       "      <td>8</td>\n",
       "      <td>12</td>\n",
       "      <td>0</td>\n",
       "    </tr>\n",
       "  </tbody>\n",
       "</table>\n",
       "</div>"
      ],
      "text/plain": [
       "            State District Block/Tehsil       Village  Pucca  Kutcha  \\\n",
       "0  ANDHRA PRADESH  Krishna    A.Konduru     A.Konduru      0       0   \n",
       "1  ANDHRA PRADESH  Krishna    A.Konduru   Atlapragada      0       0   \n",
       "2  ANDHRA PRADESH  Krishna    A.Konduru  Cheemalapadu      0       0   \n",
       "3  ANDHRA PRADESH  Krishna    A.Konduru  Gollamandala     11       6   \n",
       "4  ANDHRA PRADESH  Krishna    A.Konduru        Koduru      0       8   \n",
       "\n",
       "   Dug-cum bore well  Others  \n",
       "0                  4       0  \n",
       "1                 11       0  \n",
       "2                 23       0  \n",
       "3                  7       0  \n",
       "4                 12       0  "
      ]
     },
     "execution_count": 3,
     "metadata": {},
     "output_type": "execute_result"
    }
   ],
   "source": [
    "df.head()"
   ]
  },
  {
   "cell_type": "code",
   "execution_count": null,
   "metadata": {},
   "outputs": [],
   "source": []
  }
 ],
 "metadata": {
  "kernelspec": {
   "display_name": "Python 3",
   "language": "python",
   "name": "python3"
  },
  "language_info": {
   "codemirror_mode": {
    "name": "ipython",
    "version": 3
   },
   "file_extension": ".py",
   "mimetype": "text/x-python",
   "name": "python",
   "nbconvert_exporter": "python",
   "pygments_lexer": "ipython3",
   "version": "3.7.4"
  }
 },
 "nbformat": 4,
 "nbformat_minor": 2
}
