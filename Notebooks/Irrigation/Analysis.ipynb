{
 "cells": [
  {
   "cell_type": "markdown",
   "metadata": {},
   "source": [
    "# Season-wise Potential Utilised through Dugwells\n",
    "These datasets contain information or data of the amount of area irrigated through dugwells in vaious locations accross India also classified further based on the kind of crop.\n",
    "# Analysis of the three datasets\n",
    "There are three datsets, first one is the area currently being used and the second one with the area that is temporarily not in use. The third one is simply the whole area or the summation of the other two.  \n",
    "Now let's see what do the three datasets show in the plots going to come out"
   ]
  },
  {
   "cell_type": "code",
   "execution_count": null,
   "metadata": {},
   "outputs": [],
   "source": [
    "import pandas as pd\n",
    "import numpy as np\n",
    "df1 = pd.read_csv('../../Datasets/Season wise Potential Utilised (in use) Through Dugwells for 5th Minor Irrigation Census (2013-14).csv', index_col = [x for x in range(4)])\n",
    "df2 = pd.read_csv('../../Datasets/Season wise Potential Utilised (Temporary not in use) Through Dugwells for 5th Minor Irrigation Census (2013-14).csv', index_col = [x for x in range(4)])\n",
    "df3 = pd.read_csv('../../Datasets/Season wise Potential Utilised Through All Dugwells for 5th Minor Irrigation Census (2013-14).csv', index_col = [x for x in range(4)])"
   ]
  },
  {
   "cell_type": "markdown",
   "metadata": {},
   "source": [
    "df1 - In use  \n",
    "df2 - Temporarily not in use  \n",
    "df3 - All"
   ]
  },
  {
   "cell_type": "code",
   "execution_count": null,
   "metadata": {},
   "outputs": [],
   "source": [
    "df1.info()"
   ]
  },
  {
   "cell_type": "markdown",
   "metadata": {},
   "source": [
    "As we see in the info of df1, there are 8 attributes of the datatype float which are all Multi-indexed with their location(State,District,Block/Tehsil,Village).  \n",
    "Which is the same for the other two except for the number of instances.  \n",
    "# Visualisations"
   ]
  },
  {
   "cell_type": "code",
   "execution_count": null,
   "metadata": {},
   "outputs": [],
   "source": [
    "import plotly.express as px\n",
    "import plotly.graph_objects as go\n",
    "from plotly.subplots import make_subplots"
   ]
  },
  {
   "cell_type": "code",
   "execution_count": null,
   "metadata": {},
   "outputs": [],
   "source": [
    "y = df1.stack().apply(lambda x : x if x!=0 else np.nan).dropna()\n",
    "y.head()"
   ]
  },
  {
   "cell_type": "code",
   "execution_count": null,
   "metadata": {},
   "outputs": [],
   "source": [
    "x1 = pd.DataFrame({'Value' : df1.stack().apply(lambda x : x if x!=0 else np.nan).dropna()})\n",
    "x1.head()"
   ]
  },
  {
   "cell_type": "code",
   "execution_count": null,
   "metadata": {},
   "outputs": [],
   "source": [
    "y = pd.Series(x1.index.get_level_values(-1))\n",
    "y.index = x1.index\n",
    "x1.insert(0, column = 'Area', value = y)\n",
    "x1 = x1.droplevel(-1)"
   ]
  },
  {
   "cell_type": "code",
   "execution_count": null,
   "metadata": {},
   "outputs": [],
   "source": [
    "x1.head()"
   ]
  },
  {
   "cell_type": "code",
   "execution_count": null,
   "metadata": {},
   "outputs": [],
   "source": [
    "y = df2.stack().apply(lambda x : x if x!=0 else np.nan).dropna()\n",
    "x2 = pd.DataFrame({'Value' : df2.stack().apply(lambda x : x if x!=0 else np.nan).dropna()})\n",
    "y = pd.Series(x2.index.get_level_values(-1))\n",
    "y.index = x2.index\n",
    "x2.insert(0, column = 'Area', value = y)\n",
    "x2 = x2.droplevel(-1)\n",
    "x2.head()"
   ]
  },
  {
   "cell_type": "code",
   "execution_count": null,
   "metadata": {},
   "outputs": [],
   "source": [
    "y = df3.stack().apply(lambda x : x if x!=0 else np.nan).dropna()\n",
    "x3 = pd.DataFrame({'Value' : df3.stack().apply(lambda x : x if x!=0 else np.nan).dropna()})\n",
    "y = pd.Series(x3.index.get_level_values(-1))\n",
    "y.index = x3.index\n",
    "x3.insert(0, column = 'Area', value = y)\n",
    "x3 = x3.droplevel(-1)\n",
    "x3.head()"
   ]
  },
  {
   "cell_type": "code",
   "execution_count": null,
   "metadata": {},
   "outputs": [],
   "source": [
    "def group(df):\n",
    "    df = df.groupby('Area').sum()\n",
    "    b = pd.Series(df.index)\n",
    "    b.index = df.index\n",
    "    df['Area'] = b\n",
    "    df.index = range(df.shape[0])\n",
    "    return df"
   ]
  },
  {
   "cell_type": "code",
   "execution_count": null,
   "metadata": {},
   "outputs": [],
   "source": [
    "fig = make_subplots(\n",
    "    rows = 2,\n",
    "    cols = 1,\n",
    "    shared_xaxes = True,\n",
    "    vertical_spacing = 0.01\n",
    ")\n",
    "\n",
    "fig.add_bar(\n",
    "    name = 'In use',\n",
    "    y = group(x1)['Area'],\n",
    "    x = group(x1)['Value'],\n",
    "    orientation = 'h',\n",
    "    row = 1,\n",
    "    col = 1\n",
    ")\n",
    "fig.add_bar(\n",
    "    name = 'Temporarily not in use',\n",
    "    y = group(x2)['Area'],\n",
    "    x = group(x2)['Value'],\n",
    "    orientation = 'h',\n",
    "    row = 1,\n",
    "    col = 1\n",
    ")\n",
    "fig.update_layout(\n",
    "    barmode = 'stack',\n",
    "    title = {\n",
    "        'text' : 'Relation between the three dataframes',\n",
    "        'xanchor' : 'center',\n",
    "        'yanchor' : 'top',\n",
    "        'x' : 0.5,\n",
    "        'y' : 0.95\n",
    "    }\n",
    ")\n",
    "fig.add_bar(name = 'All',\n",
    "            y = group(x3)['Area'],\n",
    "            x = group(x3)['Value'],\n",
    "            orientation = 'h',\n",
    "            row = 2,\n",
    "            col = 1)\n",
    "fig.show()"
   ]
  },
  {
   "cell_type": "code",
   "execution_count": null,
   "metadata": {},
   "outputs": [],
   "source": [
    "fig.write_html('Relation.html')"
   ]
  },
  {
   "cell_type": "markdown",
   "metadata": {},
   "source": [
    "According to the above visualisation, it is clear to us that df1 is the dataset that matters out of the three datasets being analysed."
   ]
  },
  {
   "cell_type": "code",
   "execution_count": null,
   "metadata": {},
   "outputs": [],
   "source": [
    "df1.head()"
   ]
  },
  {
   "cell_type": "code",
   "execution_count": null,
   "metadata": {},
   "outputs": [],
   "source": [
    "columns = df1.columns\n",
    "y1 = df1.copy()"
   ]
  },
  {
   "cell_type": "code",
   "execution_count": null,
   "metadata": {},
   "outputs": [],
   "source": [
    "x = list()\n",
    "for i in range(8):\n",
    "    if i<4:\n",
    "        x.append('Major/Medium Project' + '_' + columns[i].split('-')[-1].strip())\n",
    "    else:\n",
    "        x.append('Individual' + '_' + columns[i].split('-')[-1].strip())\n",
    "y1.columns = x"
   ]
  },
  {
   "cell_type": "code",
   "execution_count": null,
   "metadata": {},
   "outputs": [],
   "source": [
    "y1.sample()"
   ]
  },
  {
   "cell_type": "code",
   "execution_count": null,
   "metadata": {},
   "outputs": [],
   "source": [
    "y1 = pd.DataFrame({'Value' : y1.stack().apply(lambda x : x if x!=0 else np.nan).dropna()})\n",
    "y1.sample(4)"
   ]
  },
  {
   "cell_type": "code",
   "execution_count": null,
   "metadata": {},
   "outputs": [],
   "source": [
    "y = pd.Series(y1.index.get_level_values(-1))\n",
    "y.index = y1.index\n",
    "y1['Command'] = y.apply(lambda x : x.split('_')[0])\n",
    "y1['Crop_type'] = y.apply(lambda x : x.split('_')[1])\n",
    "y1 = y1.droplevel(-1)\n",
    "y1.head()"
   ]
  },
  {
   "cell_type": "code",
   "execution_count": null,
   "metadata": {},
   "outputs": [],
   "source": [
    "fig = px.sunburst(\n",
    "    y1,\n",
    "    path=['Command', 'Crop_type'],\n",
    "    values='Value',\n",
    "    title = 'Command on Various Crop Types'\n",
    ")\n",
    "fig.show()"
   ]
  },
  {
   "cell_type": "markdown",
   "metadata": {},
   "source": [
    "By the above visualization, we can observe the distribution of area based on crop types and also based on individual or under command of any project."
   ]
  },
  {
   "cell_type": "code",
   "execution_count": null,
   "metadata": {},
   "outputs": [],
   "source": [
    "fig.write_html('Distribution.html')"
   ]
  },
  {
   "cell_type": "code",
   "execution_count": null,
   "metadata": {},
   "outputs": [],
   "source": [
    "fig = px.sunburst(\n",
    "    x1.reset_index(),\n",
    "    path = ['State', 'District','Block/Tehsil'],\n",
    "    values = 'Value',\n",
    "    title = 'Location-wise classification of area irrigated',\n",
    "    maxdepth = 2\n",
    ")\n",
    "fig.show()"
   ]
  },
  {
   "cell_type": "code",
   "execution_count": null,
   "metadata": {},
   "outputs": [],
   "source": [
    "fig.write_html('Location.html')"
   ]
  }
 ],
 "metadata": {
  "kernelspec": {
   "display_name": "Python 3",
   "language": "python",
   "name": "python3"
  },
  "language_info": {
   "codemirror_mode": {
    "name": "ipython",
    "version": 3
   },
   "file_extension": ".py",
   "mimetype": "text/x-python",
   "name": "python",
   "nbconvert_exporter": "python",
   "pygments_lexer": "ipython3",
   "version": "3.7.4"
  }
 },
 "nbformat": 4,
 "nbformat_minor": 2
}
