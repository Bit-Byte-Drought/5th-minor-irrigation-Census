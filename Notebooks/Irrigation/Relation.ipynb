{
 "cells": [
  {
   "cell_type": "markdown",
   "metadata": {},
   "source": [
    "# Season-wise Potential Utilised Through Dugwells\n",
    "# Relation between the three datasets\n",
    "So, basically there are three datasets with almost similar names matching the above heading.  \n",
    "Let's just dig deep into these for a start."
   ]
  },
  {
   "cell_type": "code",
   "execution_count": 1,
   "metadata": {},
   "outputs": [],
   "source": [
    "import pandas as pd\n",
    "import numpy as np\n",
    "import sys\n",
    "sys.path.append('../../Utils/Index/')\n",
    "import Clean\n",
    "df1 = Clean.clean(pd.read_csv(\n",
    "    '../../Datasets/Season wise Potential Utilised (in use) Through Dugwells for 5th Minor Irrigation Census (2013-14).csv'))\n",
    "df2 = Clean.clean(pd.read_csv(\n",
    "    '../../Datasets/Season wise Potential Utilised (Temporary not in use) Through Dugwells for 5th Minor Irrigation Census (2013-14).csv'))\n",
    "df3 = Clean.clean(pd.read_csv(\n",
    "    '../../Datasets/Season wise Potential Utilised Through All Dugwells for 5th Minor Irrigation Census (2013-14).csv'))"
   ]
  },
  {
   "cell_type": "markdown",
   "metadata": {},
   "source": [
    "df1 - In use  \n",
    "df2 - Temporary not in use  \n",
    "df3 - All"
   ]
  },
  {
   "cell_type": "code",
   "execution_count": 2,
   "metadata": {},
   "outputs": [
    {
     "data": {
      "text/plain": [
       "[array([ True]), array([ True]), array([ True])]"
      ]
     },
     "execution_count": 2,
     "metadata": {},
     "output_type": "execute_result"
    }
   ],
   "source": [
    "[pd.Series(df1.columns == df2.columns).unique(),\n",
    " pd.Series(df2.columns == df3.columns).unique(),\n",
    " pd.Series(df3.columns == df1.columns).unique()]"
   ]
  },
  {
   "cell_type": "markdown",
   "metadata": {},
   "source": [
    "unique() returns a list of unique elements from the given series.  \n",
    "Making sure that the three datasets do have the same attributes across."
   ]
  },
  {
   "cell_type": "code",
   "execution_count": 3,
   "metadata": {},
   "outputs": [
    {
     "data": {
      "text/plain": [
       "(213392, 8)"
      ]
     },
     "execution_count": 3,
     "metadata": {},
     "output_type": "execute_result"
    }
   ],
   "source": [
    "df1.shape"
   ]
  },
  {
   "cell_type": "code",
   "execution_count": 4,
   "metadata": {},
   "outputs": [
    {
     "data": {
      "text/plain": [
       "(34138, 8)"
      ]
     },
     "execution_count": 4,
     "metadata": {},
     "output_type": "execute_result"
    }
   ],
   "source": [
    "df2.shape"
   ]
  },
  {
   "cell_type": "code",
   "execution_count": 5,
   "metadata": {},
   "outputs": [
    {
     "data": {
      "text/plain": [
       "(222992, 8)"
      ]
     },
     "execution_count": 5,
     "metadata": {},
     "output_type": "execute_result"
    }
   ],
   "source": [
    "df3.shape"
   ]
  },
  {
   "cell_type": "markdown",
   "metadata": {},
   "source": [
    "Doesn't seem like these are just down to simple arithmetics as the names suggests.   \n",
    "Let's check the smaller ones with the largest."
   ]
  },
  {
   "cell_type": "code",
   "execution_count": 6,
   "metadata": {},
   "outputs": [
    {
     "data": {
      "text/plain": [
       "247530"
      ]
     },
     "execution_count": 6,
     "metadata": {},
     "output_type": "execute_result"
    }
   ],
   "source": [
    "df1.shape[0] + df2.shape[0]"
   ]
  },
  {
   "cell_type": "markdown",
   "metadata": {},
   "source": [
    "`In use` + `not in use` do not give us `all`. (Misconception basically)"
   ]
  },
  {
   "cell_type": "code",
   "execution_count": 7,
   "metadata": {},
   "outputs": [
    {
     "data": {
      "text/plain": [
       "True    34138\n",
       "Name: State_District_Block/Tehsil_Village, dtype: int64"
      ]
     },
     "execution_count": 7,
     "metadata": {},
     "output_type": "execute_result"
    }
   ],
   "source": [
    "pd.Series(df2.index).apply(lambda x : x in df3.index).value_counts()"
   ]
  },
  {
   "cell_type": "markdown",
   "metadata": {},
   "source": [
    "That leaves us with the fact that all instances in df2 are present in df3.  \n",
    "If you're wondering how it made sense, compare the number obtained with the length of df2.  \n",
    "Let's check if stuff in df1 is present in df3 which in case does will make sense.  "
   ]
  },
  {
   "cell_type": "code",
   "execution_count": 8,
   "metadata": {},
   "outputs": [
    {
     "data": {
      "text/plain": [
       "True    213392\n",
       "Name: State_District_Block/Tehsil_Village, dtype: int64"
      ]
     },
     "execution_count": 8,
     "metadata": {},
     "output_type": "execute_result"
    }
   ],
   "source": [
    "pd.Series(df1.index).apply(lambda x : x in df3.index).value_counts()"
   ]
  },
  {
   "cell_type": "markdown",
   "metadata": {},
   "source": [
    "That's another YES saying all data points present in df1 are present in df3.  \n",
    "Let's check if stuff in df2 is present in df1 which in case does will make sense.  \n",
    "I expect it won't and the number of false will be the difference between the first and last datasets."
   ]
  },
  {
   "cell_type": "code",
   "execution_count": 9,
   "metadata": {},
   "outputs": [
    {
     "data": {
      "text/plain": [
       "True     24538\n",
       "False     9600\n",
       "Name: State_District_Block/Tehsil_Village, dtype: int64"
      ]
     },
     "execution_count": 9,
     "metadata": {},
     "output_type": "execute_result"
    }
   ],
   "source": [
    "pd.Series(df2.index).apply(lambda x : x in df1.index).value_counts()"
   ]
  },
  {
   "cell_type": "markdown",
   "metadata": {},
   "source": [
    "As expected, the number of falses is same as the difference between the first and last datasets.  \n",
    "All this leaves us with some facts about the three datasets.  \n",
    "df1 contains the areas in each location that's being irrigated currently using dugwells.  \n",
    "df2 the same but areas that have been temporarily not in use.  \n",
    "df3 contains literally what we get if we summate the other two datasets.  "
   ]
  },
  {
   "cell_type": "code",
   "execution_count": 10,
   "metadata": {},
   "outputs": [],
   "source": [
    "li = list()\n",
    "def add(x, y):\n",
    "    if x.name in y.index:\n",
    "        x += y.loc[x.name]\n",
    "        li.append(x.name)\n",
    "    return x\n",
    "df1 = df1.apply(add, y = df2, axis = 1)\n",
    "df2 = df2.drop(li)"
   ]
  },
  {
   "cell_type": "markdown",
   "metadata": {},
   "source": [
    "The above block of code adds all the common elements from df1 and df2 and adds them to df1, removes them from df2."
   ]
  },
  {
   "cell_type": "code",
   "execution_count": 11,
   "metadata": {},
   "outputs": [
    {
     "data": {
      "text/plain": [
       "True"
      ]
     },
     "execution_count": 11,
     "metadata": {},
     "output_type": "execute_result"
    }
   ],
   "source": [
    "df1.shape[0] + df2.shape[0] == df3.shape[0]"
   ]
  },
  {
   "cell_type": "code",
   "execution_count": 12,
   "metadata": {},
   "outputs": [
    {
     "data": {
      "text/plain": [
       "False"
      ]
     },
     "execution_count": 12,
     "metadata": {},
     "output_type": "execute_result"
    }
   ],
   "source": [
    "df3.equals(df1.append(df2))"
   ]
  },
  {
   "cell_type": "code",
   "execution_count": 13,
   "metadata": {},
   "outputs": [],
   "source": [
    "df4 = df1.append(df2)"
   ]
  },
  {
   "cell_type": "markdown",
   "metadata": {},
   "source": [
    "df4 just created is expected to be equal to df3."
   ]
  },
  {
   "cell_type": "code",
   "execution_count": 14,
   "metadata": {},
   "outputs": [],
   "source": [
    "x = (df3.sort_index() == df4.sort_index())"
   ]
  },
  {
   "cell_type": "code",
   "execution_count": 15,
   "metadata": {},
   "outputs": [
    {
     "data": {
      "text/html": [
       "<div>\n",
       "<style scoped>\n",
       "    .dataframe tbody tr th:only-of-type {\n",
       "        vertical-align: middle;\n",
       "    }\n",
       "\n",
       "    .dataframe tbody tr th {\n",
       "        vertical-align: top;\n",
       "    }\n",
       "\n",
       "    .dataframe thead th {\n",
       "        text-align: right;\n",
       "    }\n",
       "</style>\n",
       "<table border=\"1\" class=\"dataframe\">\n",
       "  <thead>\n",
       "    <tr style=\"text-align: right;\">\n",
       "      <th></th>\n",
       "      <th>Area irrigated during 2013-2014 - Inside Command of Major/Medium Project - Kharif</th>\n",
       "      <th>Area irrigated during 2013-2014 - Inside Command of Major/Medium Project - Rabi</th>\n",
       "      <th>Area irrigated during 2013-2014 - Inside Command of Major/Medium Project - Perennial</th>\n",
       "      <th>Area irrigated during 2013-2014 - Inside Command of Major/Medium Project - Others</th>\n",
       "      <th>Area irrigated during 2013-2014 - Outside Command - Kharif</th>\n",
       "      <th>Area irrigated during 2013-2014 - Outside Command - Rabi</th>\n",
       "      <th>Area irrigated during 2013-2014 - Outside Command - Perennial</th>\n",
       "      <th>Area irrigated during 2013-2014 - Outside Command - Others</th>\n",
       "    </tr>\n",
       "  </thead>\n",
       "  <tbody>\n",
       "    <tr>\n",
       "      <th>True</th>\n",
       "      <td>222926</td>\n",
       "      <td>222935</td>\n",
       "      <td>222967</td>\n",
       "      <td>222990</td>\n",
       "      <td>221503</td>\n",
       "      <td>221705</td>\n",
       "      <td>222677</td>\n",
       "      <td>222802</td>\n",
       "    </tr>\n",
       "    <tr>\n",
       "      <th>False</th>\n",
       "      <td>66</td>\n",
       "      <td>57</td>\n",
       "      <td>25</td>\n",
       "      <td>2</td>\n",
       "      <td>1489</td>\n",
       "      <td>1287</td>\n",
       "      <td>315</td>\n",
       "      <td>190</td>\n",
       "    </tr>\n",
       "  </tbody>\n",
       "</table>\n",
       "</div>"
      ],
      "text/plain": [
       "       Area irrigated during 2013-2014 - Inside Command of Major/Medium Project - Kharif  \\\n",
       "True                                              222926                                   \n",
       "False                                                 66                                   \n",
       "\n",
       "       Area irrigated during 2013-2014 - Inside Command of Major/Medium Project - Rabi  \\\n",
       "True                                              222935                                 \n",
       "False                                                 57                                 \n",
       "\n",
       "       Area irrigated during 2013-2014 - Inside Command of Major/Medium Project - Perennial  \\\n",
       "True                                              222967                                      \n",
       "False                                                 25                                      \n",
       "\n",
       "       Area irrigated during 2013-2014 - Inside Command of Major/Medium Project - Others  \\\n",
       "True                                              222990                                   \n",
       "False                                                  2                                   \n",
       "\n",
       "       Area irrigated during 2013-2014 - Outside Command - Kharif  \\\n",
       "True                                              221503            \n",
       "False                                               1489            \n",
       "\n",
       "       Area irrigated during 2013-2014 - Outside Command - Rabi  \\\n",
       "True                                              221705          \n",
       "False                                               1287          \n",
       "\n",
       "       Area irrigated during 2013-2014 - Outside Command - Perennial  \\\n",
       "True                                              222677               \n",
       "False                                                315               \n",
       "\n",
       "       Area irrigated during 2013-2014 - Outside Command - Others  \n",
       "True                                              222802           \n",
       "False                                                190           "
      ]
     },
     "execution_count": 15,
     "metadata": {},
     "output_type": "execute_result"
    }
   ],
   "source": [
    "x.apply(lambda x : x.value_counts())"
   ]
  },
  {
   "cell_type": "code",
   "execution_count": 16,
   "metadata": {},
   "outputs": [
    {
     "name": "stdout",
     "output_type": "stream",
     "text": [
      "332108.180000002\n",
      "332108.1800000023\n",
      "363455.99999999994\n",
      "363456.0000000001\n",
      "83788.62999999987\n",
      "83788.62999999987\n",
      "14739.070000000036\n",
      "14739.070000000036\n",
      "6112357.040000006\n",
      "6112357.039999994\n",
      "8721889.879999977\n",
      "8721889.879999964\n",
      "783704.0699999997\n",
      "783704.0699999998\n",
      "435031.4500000022\n",
      "435031.45000000135\n"
     ]
    }
   ],
   "source": [
    "for i in range(8):\n",
    "    print(str(df3.sum()[i]) + '\\n' + str(df4.sum()[i]))"
   ]
  },
  {
   "cell_type": "markdown",
   "metadata": {},
   "source": [
    "In my quest for getting df3 from df1 and df2 brings me down to some negligible round-off errors.\n",
    "# That's a conclusion to stop this relation analysis"
   ]
  }
 ],
 "metadata": {
  "kernelspec": {
   "display_name": "Python 3",
   "language": "python",
   "name": "python3"
  },
  "language_info": {
   "codemirror_mode": {
    "name": "ipython",
    "version": 3
   },
   "file_extension": ".py",
   "mimetype": "text/x-python",
   "name": "python",
   "nbconvert_exporter": "python",
   "pygments_lexer": "ipython3",
   "version": "3.7.4"
  }
 },
 "nbformat": 4,
 "nbformat_minor": 2
}
