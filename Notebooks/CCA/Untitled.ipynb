{
 "cells": [
  {
   "cell_type": "markdown",
   "metadata": {},
   "source": [
    "# CCA and Season wise Potential Created Through Dugwells\n",
    "# Relation between the three datasets\n",
    "Again there are three datasets with almost similar names matching the above heading.\n",
    "Let's just dig deep into these for a start."
   ]
  },
  {
   "cell_type": "code",
   "execution_count": 1,
   "metadata": {},
   "outputs": [],
   "source": [
    "import pandas as pd\n",
    "df1 = pd.read_csv('../../Datasets/CCA and Season wise Potential Created (Permanently not in Use) Through Dugwells for 5th Minor Irrigation Census (2013-14).csv')\n",
    "df2 = pd.read_csv('../../Datasets/CCA and Season wise Potential Created (Temporary not in Use) Through Dugwells for 5th Minor Irrigation Census (2013-14).csv')\n",
    "df3 = pd.read_csv('../../Datasets/CCA and Season wise Potential Created Through all Dugwells for 5th Minor Irrigation Census (2013-14).csv')"
   ]
  },
  {
   "cell_type": "markdown",
   "metadata": {},
   "source": [
    "df1 - Permanently not in use  \n",
    "df2 - Temporarily not in use  \n",
    "df3 - All  \n",
    "Cultivable Command Area (CCA):  \n",
    "The area which can be irrigated from a scheme and is fit for cultivation. "
   ]
  },
  {
   "cell_type": "code",
   "execution_count": 2,
   "metadata": {},
   "outputs": [
    {
     "name": "stdout",
     "output_type": "stream",
     "text": [
      "<class 'pandas.core.frame.DataFrame'>\n",
      "RangeIndex: 18616 entries, 0 to 18615\n",
      "Data columns (total 9 columns):\n",
      " #   Column                                    Non-Null Count  Dtype  \n",
      "---  ------                                    --------------  -----  \n",
      " 0   State                                     18616 non-null  object \n",
      " 1   District                                  18616 non-null  object \n",
      " 2   Block/Tehsil                              18616 non-null  object \n",
      " 3   Village                                   18616 non-null  object \n",
      " 4   Culturable Command Area                   18616 non-null  float64\n",
      " 5   Irrigation potential created - Kharif     18616 non-null  float64\n",
      " 6   Irrigation potential created - Rabi       18616 non-null  float64\n",
      " 7   Irrigation potential created - Perennial  18616 non-null  float64\n",
      " 8   Irrigation potential created - Other      18616 non-null  float64\n",
      "dtypes: float64(5), object(4)\n",
      "memory usage: 1.3+ MB\n"
     ]
    }
   ],
   "source": [
    "df1.info()"
   ]
  },
  {
   "cell_type": "code",
   "execution_count": 3,
   "metadata": {},
   "outputs": [
    {
     "name": "stdout",
     "output_type": "stream",
     "text": [
      "<class 'pandas.core.frame.DataFrame'>\n",
      "RangeIndex: 34138 entries, 0 to 34137\n",
      "Data columns (total 9 columns):\n",
      " #   Column                                    Non-Null Count  Dtype  \n",
      "---  ------                                    --------------  -----  \n",
      " 0   State                                     34138 non-null  object \n",
      " 1   District                                  34138 non-null  object \n",
      " 2   Block/Tehsil                              34138 non-null  object \n",
      " 3   Village                                   34138 non-null  object \n",
      " 4   Culturable Command Area                   34138 non-null  float64\n",
      " 5   Irrigation potential created - Kharif     34138 non-null  float64\n",
      " 6   Irrigation potential created - Rabi       34138 non-null  float64\n",
      " 7   Irrigation potential created - Perennial  34138 non-null  float64\n",
      " 8   Irrigation potential created - Other      34138 non-null  float64\n",
      "dtypes: float64(5), object(4)\n",
      "memory usage: 2.3+ MB\n"
     ]
    }
   ],
   "source": [
    "df2.info()"
   ]
  },
  {
   "cell_type": "code",
   "execution_count": 4,
   "metadata": {},
   "outputs": [
    {
     "name": "stdout",
     "output_type": "stream",
     "text": [
      "<class 'pandas.core.frame.DataFrame'>\n",
      "RangeIndex: 226052 entries, 0 to 226051\n",
      "Data columns (total 9 columns):\n",
      " #   Column                                    Non-Null Count   Dtype  \n",
      "---  ------                                    --------------   -----  \n",
      " 0   State                                     226052 non-null  object \n",
      " 1   District                                  226052 non-null  object \n",
      " 2   Block/Tehsil                              226052 non-null  object \n",
      " 3   Village                                   226052 non-null  object \n",
      " 4   Culturable Command Area                   226052 non-null  float64\n",
      " 5   Irrigation potential created - Kharif     226052 non-null  float64\n",
      " 6   Irrigation potential created - Rabi       226052 non-null  float64\n",
      " 7   Irrigation potential created - Perennial  226052 non-null  float64\n",
      " 8   Irrigation potential created - Other      226052 non-null  float64\n",
      "dtypes: float64(5), object(4)\n",
      "memory usage: 15.5+ MB\n"
     ]
    }
   ],
   "source": [
    "df3.info()"
   ]
  },
  {
   "cell_type": "markdown",
   "metadata": {},
   "source": [
    "Similar datasets differing only on the basis of number of data points."
   ]
  },
  {
   "cell_type": "code",
   "execution_count": 5,
   "metadata": {},
   "outputs": [
    {
     "data": {
      "text/plain": [
       "[array([ True,  True,  True,  True,  True,  True,  True,  True,  True]),\n",
       " array([ True,  True,  True,  True,  True,  True,  True,  True,  True])]"
      ]
     },
     "execution_count": 5,
     "metadata": {},
     "output_type": "execute_result"
    }
   ],
   "source": [
    "[df1.columns == df2.columns, df3.columns == df2.columns]"
   ]
  },
  {
   "cell_type": "markdown",
   "metadata": {},
   "source": [
    "Columns are the same too."
   ]
  },
  {
   "cell_type": "code",
   "execution_count": 6,
   "metadata": {},
   "outputs": [
    {
     "data": {
      "text/html": [
       "<div>\n",
       "<style scoped>\n",
       "    .dataframe tbody tr th:only-of-type {\n",
       "        vertical-align: middle;\n",
       "    }\n",
       "\n",
       "    .dataframe tbody tr th {\n",
       "        vertical-align: top;\n",
       "    }\n",
       "\n",
       "    .dataframe thead th {\n",
       "        text-align: right;\n",
       "    }\n",
       "</style>\n",
       "<table border=\"1\" class=\"dataframe\">\n",
       "  <thead>\n",
       "    <tr style=\"text-align: right;\">\n",
       "      <th></th>\n",
       "      <th>State</th>\n",
       "      <th>District</th>\n",
       "      <th>Block/Tehsil</th>\n",
       "      <th>Village</th>\n",
       "      <th>Culturable Command Area</th>\n",
       "      <th>Irrigation potential created - Kharif</th>\n",
       "      <th>Irrigation potential created - Rabi</th>\n",
       "      <th>Irrigation potential created - Perennial</th>\n",
       "      <th>Irrigation potential created - Other</th>\n",
       "    </tr>\n",
       "  </thead>\n",
       "  <tbody>\n",
       "    <tr>\n",
       "      <th>0</th>\n",
       "      <td>ANDAMAN &amp; NICOBARS</td>\n",
       "      <td>NICOBAR</td>\n",
       "      <td>CAR NICOBAR</td>\n",
       "      <td>Big Lapati</td>\n",
       "      <td>0.1</td>\n",
       "      <td>0.1</td>\n",
       "      <td>0.1</td>\n",
       "      <td>0.0</td>\n",
       "      <td>0.0</td>\n",
       "    </tr>\n",
       "    <tr>\n",
       "      <th>1</th>\n",
       "      <td>ANDAMAN &amp; NICOBARS</td>\n",
       "      <td>NICOBAR</td>\n",
       "      <td>CAR NICOBAR</td>\n",
       "      <td>Tapoiming</td>\n",
       "      <td>0.6</td>\n",
       "      <td>0.4</td>\n",
       "      <td>0.4</td>\n",
       "      <td>0.0</td>\n",
       "      <td>0.0</td>\n",
       "    </tr>\n",
       "    <tr>\n",
       "      <th>2</th>\n",
       "      <td>ANDHRA PRADESH</td>\n",
       "      <td>Anantapur</td>\n",
       "      <td>Agali</td>\n",
       "      <td>Agali</td>\n",
       "      <td>0.0</td>\n",
       "      <td>0.0</td>\n",
       "      <td>0.0</td>\n",
       "      <td>0.0</td>\n",
       "      <td>0.0</td>\n",
       "    </tr>\n",
       "    <tr>\n",
       "      <th>3</th>\n",
       "      <td>ANDHRA PRADESH</td>\n",
       "      <td>Anantapur</td>\n",
       "      <td>Agali</td>\n",
       "      <td>Akkagaladevarahalli</td>\n",
       "      <td>0.0</td>\n",
       "      <td>0.0</td>\n",
       "      <td>0.0</td>\n",
       "      <td>0.0</td>\n",
       "      <td>0.0</td>\n",
       "    </tr>\n",
       "    <tr>\n",
       "      <th>4</th>\n",
       "      <td>ANDHRA PRADESH</td>\n",
       "      <td>Anantapur</td>\n",
       "      <td>Agali</td>\n",
       "      <td>Hulikeradevarahalli</td>\n",
       "      <td>0.0</td>\n",
       "      <td>0.0</td>\n",
       "      <td>0.0</td>\n",
       "      <td>0.0</td>\n",
       "      <td>0.0</td>\n",
       "    </tr>\n",
       "  </tbody>\n",
       "</table>\n",
       "</div>"
      ],
      "text/plain": [
       "                State   District Block/Tehsil              Village  \\\n",
       "0  ANDAMAN & NICOBARS    NICOBAR  CAR NICOBAR           Big Lapati   \n",
       "1  ANDAMAN & NICOBARS    NICOBAR  CAR NICOBAR            Tapoiming   \n",
       "2      ANDHRA PRADESH  Anantapur        Agali                Agali   \n",
       "3      ANDHRA PRADESH  Anantapur        Agali  Akkagaladevarahalli   \n",
       "4      ANDHRA PRADESH  Anantapur        Agali  Hulikeradevarahalli   \n",
       "\n",
       "   Culturable Command Area  Irrigation potential created - Kharif  \\\n",
       "0                      0.1                                    0.1   \n",
       "1                      0.6                                    0.4   \n",
       "2                      0.0                                    0.0   \n",
       "3                      0.0                                    0.0   \n",
       "4                      0.0                                    0.0   \n",
       "\n",
       "   Irrigation potential created - Rabi  \\\n",
       "0                                  0.1   \n",
       "1                                  0.4   \n",
       "2                                  0.0   \n",
       "3                                  0.0   \n",
       "4                                  0.0   \n",
       "\n",
       "   Irrigation potential created - Perennial  \\\n",
       "0                                       0.0   \n",
       "1                                       0.0   \n",
       "2                                       0.0   \n",
       "3                                       0.0   \n",
       "4                                       0.0   \n",
       "\n",
       "   Irrigation potential created - Other  \n",
       "0                                   0.0  \n",
       "1                                   0.0  \n",
       "2                                   0.0  \n",
       "3                                   0.0  \n",
       "4                                   0.0  "
      ]
     },
     "execution_count": 6,
     "metadata": {},
     "output_type": "execute_result"
    }
   ],
   "source": [
    "df1.head()"
   ]
  },
  {
   "cell_type": "code",
   "execution_count": 7,
   "metadata": {},
   "outputs": [
    {
     "data": {
      "text/html": [
       "<div>\n",
       "<style scoped>\n",
       "    .dataframe tbody tr th:only-of-type {\n",
       "        vertical-align: middle;\n",
       "    }\n",
       "\n",
       "    .dataframe tbody tr th {\n",
       "        vertical-align: top;\n",
       "    }\n",
       "\n",
       "    .dataframe thead th {\n",
       "        text-align: right;\n",
       "    }\n",
       "</style>\n",
       "<table border=\"1\" class=\"dataframe\">\n",
       "  <thead>\n",
       "    <tr style=\"text-align: right;\">\n",
       "      <th></th>\n",
       "      <th>State</th>\n",
       "      <th>District</th>\n",
       "      <th>Block/Tehsil</th>\n",
       "      <th>Village</th>\n",
       "      <th>Culturable Command Area</th>\n",
       "      <th>Irrigation potential created - Kharif</th>\n",
       "      <th>Irrigation potential created - Rabi</th>\n",
       "      <th>Irrigation potential created - Perennial</th>\n",
       "      <th>Irrigation potential created - Other</th>\n",
       "    </tr>\n",
       "  </thead>\n",
       "  <tbody>\n",
       "    <tr>\n",
       "      <th>0</th>\n",
       "      <td>ANDAMAN &amp; NICOBARS</td>\n",
       "      <td>NICOBAR</td>\n",
       "      <td>CAR NICOBAR</td>\n",
       "      <td>Big Lapati</td>\n",
       "      <td>0.10</td>\n",
       "      <td>0.1</td>\n",
       "      <td>0.10</td>\n",
       "      <td>0.0</td>\n",
       "      <td>0.0</td>\n",
       "    </tr>\n",
       "    <tr>\n",
       "      <th>1</th>\n",
       "      <td>ANDAMAN &amp; NICOBARS</td>\n",
       "      <td>NORTH &amp; MIDDLE ANDAMAN</td>\n",
       "      <td>RANGAT</td>\n",
       "      <td>Adojig</td>\n",
       "      <td>5.40</td>\n",
       "      <td>4.4</td>\n",
       "      <td>0.40</td>\n",
       "      <td>0.2</td>\n",
       "      <td>0.0</td>\n",
       "    </tr>\n",
       "    <tr>\n",
       "      <th>2</th>\n",
       "      <td>ANDAMAN &amp; NICOBARS</td>\n",
       "      <td>NORTH &amp; MIDDLE ANDAMAN</td>\n",
       "      <td>RANGAT</td>\n",
       "      <td>Betapur</td>\n",
       "      <td>1.13</td>\n",
       "      <td>0.0</td>\n",
       "      <td>0.41</td>\n",
       "      <td>0.1</td>\n",
       "      <td>0.0</td>\n",
       "    </tr>\n",
       "    <tr>\n",
       "      <th>3</th>\n",
       "      <td>ANDAMAN &amp; NICOBARS</td>\n",
       "      <td>NORTH &amp; MIDDLE ANDAMAN</td>\n",
       "      <td>RANGAT</td>\n",
       "      <td>Ramachandra nagar</td>\n",
       "      <td>0.30</td>\n",
       "      <td>0.3</td>\n",
       "      <td>0.30</td>\n",
       "      <td>0.0</td>\n",
       "      <td>0.0</td>\n",
       "    </tr>\n",
       "    <tr>\n",
       "      <th>4</th>\n",
       "      <td>ANDAMAN &amp; NICOBARS</td>\n",
       "      <td>SOUTH ANDAMAN</td>\n",
       "      <td>FERRARGUNJ</td>\n",
       "      <td>Namunagarh</td>\n",
       "      <td>0.62</td>\n",
       "      <td>0.5</td>\n",
       "      <td>0.50</td>\n",
       "      <td>0.0</td>\n",
       "      <td>0.0</td>\n",
       "    </tr>\n",
       "  </tbody>\n",
       "</table>\n",
       "</div>"
      ],
      "text/plain": [
       "                State                District Block/Tehsil            Village  \\\n",
       "0  ANDAMAN & NICOBARS                 NICOBAR  CAR NICOBAR         Big Lapati   \n",
       "1  ANDAMAN & NICOBARS  NORTH & MIDDLE ANDAMAN       RANGAT             Adojig   \n",
       "2  ANDAMAN & NICOBARS  NORTH & MIDDLE ANDAMAN       RANGAT            Betapur   \n",
       "3  ANDAMAN & NICOBARS  NORTH & MIDDLE ANDAMAN       RANGAT  Ramachandra nagar   \n",
       "4  ANDAMAN & NICOBARS           SOUTH ANDAMAN   FERRARGUNJ         Namunagarh   \n",
       "\n",
       "   Culturable Command Area  Irrigation potential created - Kharif  \\\n",
       "0                     0.10                                    0.1   \n",
       "1                     5.40                                    4.4   \n",
       "2                     1.13                                    0.0   \n",
       "3                     0.30                                    0.3   \n",
       "4                     0.62                                    0.5   \n",
       "\n",
       "   Irrigation potential created - Rabi  \\\n",
       "0                                 0.10   \n",
       "1                                 0.40   \n",
       "2                                 0.41   \n",
       "3                                 0.30   \n",
       "4                                 0.50   \n",
       "\n",
       "   Irrigation potential created - Perennial  \\\n",
       "0                                       0.0   \n",
       "1                                       0.2   \n",
       "2                                       0.1   \n",
       "3                                       0.0   \n",
       "4                                       0.0   \n",
       "\n",
       "   Irrigation potential created - Other  \n",
       "0                                   0.0  \n",
       "1                                   0.0  \n",
       "2                                   0.0  \n",
       "3                                   0.0  \n",
       "4                                   0.0  "
      ]
     },
     "execution_count": 7,
     "metadata": {},
     "output_type": "execute_result"
    }
   ],
   "source": [
    "df2.head()"
   ]
  },
  {
   "cell_type": "code",
   "execution_count": 8,
   "metadata": {},
   "outputs": [
    {
     "data": {
      "text/html": [
       "<div>\n",
       "<style scoped>\n",
       "    .dataframe tbody tr th:only-of-type {\n",
       "        vertical-align: middle;\n",
       "    }\n",
       "\n",
       "    .dataframe tbody tr th {\n",
       "        vertical-align: top;\n",
       "    }\n",
       "\n",
       "    .dataframe thead th {\n",
       "        text-align: right;\n",
       "    }\n",
       "</style>\n",
       "<table border=\"1\" class=\"dataframe\">\n",
       "  <thead>\n",
       "    <tr style=\"text-align: right;\">\n",
       "      <th></th>\n",
       "      <th>State</th>\n",
       "      <th>District</th>\n",
       "      <th>Block/Tehsil</th>\n",
       "      <th>Village</th>\n",
       "      <th>Culturable Command Area</th>\n",
       "      <th>Irrigation potential created - Kharif</th>\n",
       "      <th>Irrigation potential created - Rabi</th>\n",
       "      <th>Irrigation potential created - Perennial</th>\n",
       "      <th>Irrigation potential created - Other</th>\n",
       "    </tr>\n",
       "  </thead>\n",
       "  <tbody>\n",
       "    <tr>\n",
       "      <th>0</th>\n",
       "      <td>ANDAMAN &amp; NICOBARS</td>\n",
       "      <td>NICOBAR</td>\n",
       "      <td>CAMPBELL BAY</td>\n",
       "      <td>Govind Nagar</td>\n",
       "      <td>7.00</td>\n",
       "      <td>6.00</td>\n",
       "      <td>5.50</td>\n",
       "      <td>0.0</td>\n",
       "      <td>0.0</td>\n",
       "    </tr>\n",
       "    <tr>\n",
       "      <th>1</th>\n",
       "      <td>ANDAMAN &amp; NICOBARS</td>\n",
       "      <td>NICOBAR</td>\n",
       "      <td>CAMPBELL BAY</td>\n",
       "      <td>Joginder Nagar</td>\n",
       "      <td>8.00</td>\n",
       "      <td>8.00</td>\n",
       "      <td>8.00</td>\n",
       "      <td>0.0</td>\n",
       "      <td>0.0</td>\n",
       "    </tr>\n",
       "    <tr>\n",
       "      <th>2</th>\n",
       "      <td>ANDAMAN &amp; NICOBARS</td>\n",
       "      <td>NICOBAR</td>\n",
       "      <td>CAMPBELL BAY</td>\n",
       "      <td>Sashtri Nagar</td>\n",
       "      <td>5.00</td>\n",
       "      <td>5.00</td>\n",
       "      <td>5.00</td>\n",
       "      <td>0.0</td>\n",
       "      <td>0.0</td>\n",
       "    </tr>\n",
       "    <tr>\n",
       "      <th>3</th>\n",
       "      <td>ANDAMAN &amp; NICOBARS</td>\n",
       "      <td>NICOBAR</td>\n",
       "      <td>CAR NICOBAR</td>\n",
       "      <td>Big Lapati</td>\n",
       "      <td>1.26</td>\n",
       "      <td>1.01</td>\n",
       "      <td>0.91</td>\n",
       "      <td>0.0</td>\n",
       "      <td>0.0</td>\n",
       "    </tr>\n",
       "    <tr>\n",
       "      <th>4</th>\n",
       "      <td>ANDAMAN &amp; NICOBARS</td>\n",
       "      <td>NICOBAR</td>\n",
       "      <td>CAR NICOBAR</td>\n",
       "      <td>Chuckchucha</td>\n",
       "      <td>2.51</td>\n",
       "      <td>1.99</td>\n",
       "      <td>0.70</td>\n",
       "      <td>0.0</td>\n",
       "      <td>0.0</td>\n",
       "    </tr>\n",
       "  </tbody>\n",
       "</table>\n",
       "</div>"
      ],
      "text/plain": [
       "                State District  Block/Tehsil         Village  \\\n",
       "0  ANDAMAN & NICOBARS  NICOBAR  CAMPBELL BAY    Govind Nagar   \n",
       "1  ANDAMAN & NICOBARS  NICOBAR  CAMPBELL BAY  Joginder Nagar   \n",
       "2  ANDAMAN & NICOBARS  NICOBAR  CAMPBELL BAY   Sashtri Nagar   \n",
       "3  ANDAMAN & NICOBARS  NICOBAR   CAR NICOBAR      Big Lapati   \n",
       "4  ANDAMAN & NICOBARS  NICOBAR   CAR NICOBAR     Chuckchucha   \n",
       "\n",
       "   Culturable Command Area  Irrigation potential created - Kharif  \\\n",
       "0                     7.00                                   6.00   \n",
       "1                     8.00                                   8.00   \n",
       "2                     5.00                                   5.00   \n",
       "3                     1.26                                   1.01   \n",
       "4                     2.51                                   1.99   \n",
       "\n",
       "   Irrigation potential created - Rabi  \\\n",
       "0                                 5.50   \n",
       "1                                 8.00   \n",
       "2                                 5.00   \n",
       "3                                 0.91   \n",
       "4                                 0.70   \n",
       "\n",
       "   Irrigation potential created - Perennial  \\\n",
       "0                                       0.0   \n",
       "1                                       0.0   \n",
       "2                                       0.0   \n",
       "3                                       0.0   \n",
       "4                                       0.0   \n",
       "\n",
       "   Irrigation potential created - Other  \n",
       "0                                   0.0  \n",
       "1                                   0.0  \n",
       "2                                   0.0  \n",
       "3                                   0.0  \n",
       "4                                   0.0  "
      ]
     },
     "execution_count": 8,
     "metadata": {},
     "output_type": "execute_result"
    }
   ],
   "source": [
    "df3.head()"
   ]
  },
  {
   "cell_type": "markdown",
   "metadata": {},
   "source": [
    "Again, we'll need a unique index for comparision."
   ]
  },
  {
   "cell_type": "code",
   "execution_count": 9,
   "metadata": {},
   "outputs": [],
   "source": [
    "import sys\n",
    "sys.path.append('../Index/')\n",
    "import Clean"
   ]
  },
  {
   "cell_type": "code",
   "execution_count": 10,
   "metadata": {},
   "outputs": [
    {
     "data": {
      "text/html": [
       "<div>\n",
       "<style scoped>\n",
       "    .dataframe tbody tr th:only-of-type {\n",
       "        vertical-align: middle;\n",
       "    }\n",
       "\n",
       "    .dataframe tbody tr th {\n",
       "        vertical-align: top;\n",
       "    }\n",
       "\n",
       "    .dataframe thead th {\n",
       "        text-align: right;\n",
       "    }\n",
       "</style>\n",
       "<table border=\"1\" class=\"dataframe\">\n",
       "  <thead>\n",
       "    <tr style=\"text-align: right;\">\n",
       "      <th></th>\n",
       "      <th>Culturable Command Area</th>\n",
       "      <th>Irrigation potential created - Kharif</th>\n",
       "      <th>Irrigation potential created - Rabi</th>\n",
       "      <th>Irrigation potential created - Perennial</th>\n",
       "      <th>Irrigation potential created - Other</th>\n",
       "    </tr>\n",
       "    <tr>\n",
       "      <th>State_District_Block/Tehsil_Village</th>\n",
       "      <th></th>\n",
       "      <th></th>\n",
       "      <th></th>\n",
       "      <th></th>\n",
       "      <th></th>\n",
       "    </tr>\n",
       "  </thead>\n",
       "  <tbody>\n",
       "    <tr>\n",
       "      <th>ANDAMAN &amp; NICOBARS_NICOBAR_CAR NICOBAR_Big Lapati</th>\n",
       "      <td>0.10</td>\n",
       "      <td>0.1</td>\n",
       "      <td>0.10</td>\n",
       "      <td>0.0</td>\n",
       "      <td>0.0</td>\n",
       "    </tr>\n",
       "    <tr>\n",
       "      <th>ANDAMAN &amp; NICOBARS_NORTH &amp; MIDDLE ANDAMAN_RANGAT_Adojig</th>\n",
       "      <td>5.40</td>\n",
       "      <td>4.4</td>\n",
       "      <td>0.40</td>\n",
       "      <td>0.2</td>\n",
       "      <td>0.0</td>\n",
       "    </tr>\n",
       "    <tr>\n",
       "      <th>ANDAMAN &amp; NICOBARS_NORTH &amp; MIDDLE ANDAMAN_RANGAT_Betapur</th>\n",
       "      <td>1.13</td>\n",
       "      <td>0.0</td>\n",
       "      <td>0.41</td>\n",
       "      <td>0.1</td>\n",
       "      <td>0.0</td>\n",
       "    </tr>\n",
       "    <tr>\n",
       "      <th>ANDAMAN &amp; NICOBARS_NORTH &amp; MIDDLE ANDAMAN_RANGAT_Ramachandra nagar</th>\n",
       "      <td>0.30</td>\n",
       "      <td>0.3</td>\n",
       "      <td>0.30</td>\n",
       "      <td>0.0</td>\n",
       "      <td>0.0</td>\n",
       "    </tr>\n",
       "    <tr>\n",
       "      <th>ANDAMAN &amp; NICOBARS_SOUTH ANDAMAN_FERRARGUNJ_Namunagarh</th>\n",
       "      <td>0.62</td>\n",
       "      <td>0.5</td>\n",
       "      <td>0.50</td>\n",
       "      <td>0.0</td>\n",
       "      <td>0.0</td>\n",
       "    </tr>\n",
       "  </tbody>\n",
       "</table>\n",
       "</div>"
      ],
      "text/plain": [
       "                                                    Culturable Command Area  \\\n",
       "State_District_Block/Tehsil_Village                                           \n",
       "ANDAMAN & NICOBARS_NICOBAR_CAR NICOBAR_Big Lapati                      0.10   \n",
       "ANDAMAN & NICOBARS_NORTH & MIDDLE ANDAMAN_RANGA...                     5.40   \n",
       "ANDAMAN & NICOBARS_NORTH & MIDDLE ANDAMAN_RANGA...                     1.13   \n",
       "ANDAMAN & NICOBARS_NORTH & MIDDLE ANDAMAN_RANGA...                     0.30   \n",
       "ANDAMAN & NICOBARS_SOUTH ANDAMAN_FERRARGUNJ_Nam...                     0.62   \n",
       "\n",
       "                                                    Irrigation potential created - Kharif  \\\n",
       "State_District_Block/Tehsil_Village                                                         \n",
       "ANDAMAN & NICOBARS_NICOBAR_CAR NICOBAR_Big Lapati                                     0.1   \n",
       "ANDAMAN & NICOBARS_NORTH & MIDDLE ANDAMAN_RANGA...                                    4.4   \n",
       "ANDAMAN & NICOBARS_NORTH & MIDDLE ANDAMAN_RANGA...                                    0.0   \n",
       "ANDAMAN & NICOBARS_NORTH & MIDDLE ANDAMAN_RANGA...                                    0.3   \n",
       "ANDAMAN & NICOBARS_SOUTH ANDAMAN_FERRARGUNJ_Nam...                                    0.5   \n",
       "\n",
       "                                                    Irrigation potential created - Rabi  \\\n",
       "State_District_Block/Tehsil_Village                                                       \n",
       "ANDAMAN & NICOBARS_NICOBAR_CAR NICOBAR_Big Lapati                                  0.10   \n",
       "ANDAMAN & NICOBARS_NORTH & MIDDLE ANDAMAN_RANGA...                                 0.40   \n",
       "ANDAMAN & NICOBARS_NORTH & MIDDLE ANDAMAN_RANGA...                                 0.41   \n",
       "ANDAMAN & NICOBARS_NORTH & MIDDLE ANDAMAN_RANGA...                                 0.30   \n",
       "ANDAMAN & NICOBARS_SOUTH ANDAMAN_FERRARGUNJ_Nam...                                 0.50   \n",
       "\n",
       "                                                    Irrigation potential created - Perennial  \\\n",
       "State_District_Block/Tehsil_Village                                                            \n",
       "ANDAMAN & NICOBARS_NICOBAR_CAR NICOBAR_Big Lapati                                        0.0   \n",
       "ANDAMAN & NICOBARS_NORTH & MIDDLE ANDAMAN_RANGA...                                       0.2   \n",
       "ANDAMAN & NICOBARS_NORTH & MIDDLE ANDAMAN_RANGA...                                       0.1   \n",
       "ANDAMAN & NICOBARS_NORTH & MIDDLE ANDAMAN_RANGA...                                       0.0   \n",
       "ANDAMAN & NICOBARS_SOUTH ANDAMAN_FERRARGUNJ_Nam...                                       0.0   \n",
       "\n",
       "                                                    Irrigation potential created - Other  \n",
       "State_District_Block/Tehsil_Village                                                       \n",
       "ANDAMAN & NICOBARS_NICOBAR_CAR NICOBAR_Big Lapati                                    0.0  \n",
       "ANDAMAN & NICOBARS_NORTH & MIDDLE ANDAMAN_RANGA...                                   0.0  \n",
       "ANDAMAN & NICOBARS_NORTH & MIDDLE ANDAMAN_RANGA...                                   0.0  \n",
       "ANDAMAN & NICOBARS_NORTH & MIDDLE ANDAMAN_RANGA...                                   0.0  \n",
       "ANDAMAN & NICOBARS_SOUTH ANDAMAN_FERRARGUNJ_Nam...                                   0.0  "
      ]
     },
     "execution_count": 10,
     "metadata": {},
     "output_type": "execute_result"
    }
   ],
   "source": [
    "df1 = Clean.clean(df1)\n",
    "df2 = Clean.clean(df2)\n",
    "df3 = Clean.clean(df3)\n",
    "df2.head()"
   ]
  },
  {
   "cell_type": "code",
   "execution_count": 11,
   "metadata": {},
   "outputs": [
    {
     "data": {
      "text/plain": [
       "True    18616\n",
       "Name: State_District_Block/Tehsil_Village, dtype: int64"
      ]
     },
     "execution_count": 11,
     "metadata": {},
     "output_type": "execute_result"
    }
   ],
   "source": [
    "pd.Series(df1.index).apply(lambda x : x in df3.index).value_counts()"
   ]
  },
  {
   "cell_type": "code",
   "execution_count": 12,
   "metadata": {},
   "outputs": [
    {
     "data": {
      "text/plain": [
       "True    34138\n",
       "Name: State_District_Block/Tehsil_Village, dtype: int64"
      ]
     },
     "execution_count": 12,
     "metadata": {},
     "output_type": "execute_result"
    }
   ],
   "source": [
    "pd.Series(df2.index).apply(lambda x : x in df3.index).value_counts()"
   ]
  },
  {
   "cell_type": "markdown",
   "metadata": {},
   "source": [
    "Everything in the first two datasets are present in the third one as expected."
   ]
  },
  {
   "cell_type": "code",
   "execution_count": 13,
   "metadata": {},
   "outputs": [
    {
     "data": {
      "text/plain": [
       "False    26493\n",
       "True      7645\n",
       "Name: State_District_Block/Tehsil_Village, dtype: int64"
      ]
     },
     "execution_count": 13,
     "metadata": {},
     "output_type": "execute_result"
    }
   ],
   "source": [
    "pd.Series(df2.index).apply(lambda x : x in df1.index).value_counts()"
   ]
  },
  {
   "cell_type": "code",
   "execution_count": 14,
   "metadata": {},
   "outputs": [
    {
     "data": {
      "text/plain": [
       "False    10971\n",
       "True      7645\n",
       "Name: State_District_Block/Tehsil_Village, dtype: int64"
      ]
     },
     "execution_count": 14,
     "metadata": {},
     "output_type": "execute_result"
    }
   ],
   "source": [
    "pd.Series(df1.index).apply(lambda x : x in df2.index).value_counts()"
   ]
  },
  {
   "cell_type": "markdown",
   "metadata": {},
   "source": [
    "The first two datasets have 7645 intersecting data points."
   ]
  },
  {
   "cell_type": "code",
   "execution_count": 15,
   "metadata": {},
   "outputs": [
    {
     "data": {
      "text/plain": [
       "Culturable Command Area                     7.0\n",
       "Irrigation potential created - Kharif       6.0\n",
       "Irrigation potential created - Rabi         5.5\n",
       "Irrigation potential created - Perennial    0.0\n",
       "Irrigation potential created - Other        0.0\n",
       "Name: ANDAMAN & NICOBARS_NICOBAR_CAMPBELL BAY_Govind Nagar, dtype: float64"
      ]
     },
     "execution_count": 15,
     "metadata": {},
     "output_type": "execute_result"
    }
   ],
   "source": [
    "df3.iloc[0]"
   ]
  },
  {
   "cell_type": "code",
   "execution_count": 16,
   "metadata": {},
   "outputs": [
    {
     "data": {
      "text/plain": [
       "Culturable Command Area                     7.0\n",
       "Irrigation potential created - Kharif       6.0\n",
       "Irrigation potential created - Rabi         5.5\n",
       "Irrigation potential created - Perennial    0.0\n",
       "Irrigation potential created - Other        0.0\n",
       "Name: ANDAMAN & NICOBARS_NICOBAR_CAMPBELL BAY_Govind Nagar, dtype: float64"
      ]
     },
     "execution_count": 16,
     "metadata": {},
     "output_type": "execute_result"
    }
   ],
   "source": [
    "df3.loc[df3.iloc[0].name]"
   ]
  },
  {
   "cell_type": "code",
   "execution_count": 17,
   "metadata": {},
   "outputs": [
    {
     "data": {
      "text/plain": [
       "2    8101\n",
       "5    3149\n",
       "1    3143\n",
       "3    2286\n",
       "0    1870\n",
       "4      67\n",
       "dtype: int64"
      ]
     },
     "execution_count": 17,
     "metadata": {},
     "output_type": "execute_result"
    }
   ],
   "source": [
    "def check(x, y):\n",
    "    if x.name in y.index:\n",
    "        return x == y.loc[x.name]\n",
    "df1.apply(check, y = df3, axis = 1).sum(axis = 1).value_counts()"
   ]
  },
  {
   "cell_type": "code",
   "execution_count": 18,
   "metadata": {},
   "outputs": [
    {
     "data": {
      "text/plain": [
       "2    13393\n",
       "5     8952\n",
       "1     5089\n",
       "0     3280\n",
       "3     3120\n",
       "4      304\n",
       "dtype: int64"
      ]
     },
     "execution_count": 18,
     "metadata": {},
     "output_type": "execute_result"
    }
   ],
   "source": [
    "df2.apply(check, y = df3, axis = 1).sum(axis = 1).value_counts()"
   ]
  },
  {
   "cell_type": "code",
   "execution_count": 19,
   "metadata": {},
   "outputs": [
    {
     "data": {
      "text/plain": [
       "0.0    26907\n",
       "2.0     3687\n",
       "3.0     1815\n",
       "1.0     1021\n",
       "5.0      383\n",
       "4.0      325\n",
       "dtype: int64"
      ]
     },
     "execution_count": 19,
     "metadata": {},
     "output_type": "execute_result"
    }
   ],
   "source": [
    "df2.apply(check, y = df1, axis = 1).sum(axis = 1).value_counts()"
   ]
  },
  {
   "cell_type": "code",
   "execution_count": 20,
   "metadata": {},
   "outputs": [
    {
     "data": {
      "text/plain": [
       "0.0    11385\n",
       "2.0     3687\n",
       "3.0     1815\n",
       "1.0     1021\n",
       "5.0      383\n",
       "4.0      325\n",
       "dtype: int64"
      ]
     },
     "execution_count": 20,
     "metadata": {},
     "output_type": "execute_result"
    }
   ],
   "source": [
    "df1.apply(check, y = df2, axis = 1).sum(axis = 1).value_counts()"
   ]
  },
  {
   "cell_type": "markdown",
   "metadata": {},
   "source": [
    "Those don't give away anything."
   ]
  },
  {
   "cell_type": "code",
   "execution_count": 21,
   "metadata": {},
   "outputs": [],
   "source": [
    "li = list()\n",
    "def add(x, y):\n",
    "    if x.name in y.index:\n",
    "        x += y.loc[x.name]\n",
    "        li.append(x.name)\n",
    "    return x\n",
    "df4 = df1.apply(add, y = df2, axis = 1)\n",
    "df4.append(df2.drop(li))\n",
    "df4 = df4.sort_index()"
   ]
  },
  {
   "cell_type": "code",
   "execution_count": 22,
   "metadata": {},
   "outputs": [],
   "source": [
    "def sub(x, y):\n",
    "    if x.name in y.index:\n",
    "        x -= y.loc[x.name]\n",
    "    return x\n",
    "df5 = df3.apply(sub, y = df4, axis = 1)"
   ]
  },
  {
   "cell_type": "code",
   "execution_count": 23,
   "metadata": {},
   "outputs": [
    {
     "data": {
      "text/html": [
       "<div>\n",
       "<style scoped>\n",
       "    .dataframe tbody tr th:only-of-type {\n",
       "        vertical-align: middle;\n",
       "    }\n",
       "\n",
       "    .dataframe tbody tr th {\n",
       "        vertical-align: top;\n",
       "    }\n",
       "\n",
       "    .dataframe thead th {\n",
       "        text-align: right;\n",
       "    }\n",
       "</style>\n",
       "<table border=\"1\" class=\"dataframe\">\n",
       "  <thead>\n",
       "    <tr style=\"text-align: right;\">\n",
       "      <th></th>\n",
       "      <th>Culturable Command Area</th>\n",
       "      <th>Irrigation potential created - Kharif</th>\n",
       "      <th>Irrigation potential created - Rabi</th>\n",
       "      <th>Irrigation potential created - Perennial</th>\n",
       "      <th>Irrigation potential created - Other</th>\n",
       "    </tr>\n",
       "    <tr>\n",
       "      <th>State_District_Block/Tehsil_Village</th>\n",
       "      <th></th>\n",
       "      <th></th>\n",
       "      <th></th>\n",
       "      <th></th>\n",
       "      <th></th>\n",
       "    </tr>\n",
       "  </thead>\n",
       "  <tbody>\n",
       "    <tr>\n",
       "      <th>ANDAMAN &amp; NICOBARS_NICOBAR_CAMPBELL BAY_Govind Nagar</th>\n",
       "      <td>7.00</td>\n",
       "      <td>6.00</td>\n",
       "      <td>5.50</td>\n",
       "      <td>0.0</td>\n",
       "      <td>0.0</td>\n",
       "    </tr>\n",
       "    <tr>\n",
       "      <th>ANDAMAN &amp; NICOBARS_NICOBAR_CAMPBELL BAY_Joginder Nagar</th>\n",
       "      <td>8.00</td>\n",
       "      <td>8.00</td>\n",
       "      <td>8.00</td>\n",
       "      <td>0.0</td>\n",
       "      <td>0.0</td>\n",
       "    </tr>\n",
       "    <tr>\n",
       "      <th>ANDAMAN &amp; NICOBARS_NICOBAR_CAMPBELL BAY_Sashtri Nagar</th>\n",
       "      <td>5.00</td>\n",
       "      <td>5.00</td>\n",
       "      <td>5.00</td>\n",
       "      <td>0.0</td>\n",
       "      <td>0.0</td>\n",
       "    </tr>\n",
       "    <tr>\n",
       "      <th>ANDAMAN &amp; NICOBARS_NICOBAR_CAR NICOBAR_Big Lapati</th>\n",
       "      <td>1.06</td>\n",
       "      <td>0.81</td>\n",
       "      <td>0.71</td>\n",
       "      <td>0.0</td>\n",
       "      <td>0.0</td>\n",
       "    </tr>\n",
       "    <tr>\n",
       "      <th>ANDAMAN &amp; NICOBARS_NICOBAR_CAR NICOBAR_Chuckchucha</th>\n",
       "      <td>2.51</td>\n",
       "      <td>1.99</td>\n",
       "      <td>0.70</td>\n",
       "      <td>0.0</td>\n",
       "      <td>0.0</td>\n",
       "    </tr>\n",
       "  </tbody>\n",
       "</table>\n",
       "</div>"
      ],
      "text/plain": [
       "                                                    Culturable Command Area  \\\n",
       "State_District_Block/Tehsil_Village                                           \n",
       "ANDAMAN & NICOBARS_NICOBAR_CAMPBELL BAY_Govind ...                     7.00   \n",
       "ANDAMAN & NICOBARS_NICOBAR_CAMPBELL BAY_Joginde...                     8.00   \n",
       "ANDAMAN & NICOBARS_NICOBAR_CAMPBELL BAY_Sashtri...                     5.00   \n",
       "ANDAMAN & NICOBARS_NICOBAR_CAR NICOBAR_Big Lapati                      1.06   \n",
       "ANDAMAN & NICOBARS_NICOBAR_CAR NICOBAR_Chuckchucha                     2.51   \n",
       "\n",
       "                                                    Irrigation potential created - Kharif  \\\n",
       "State_District_Block/Tehsil_Village                                                         \n",
       "ANDAMAN & NICOBARS_NICOBAR_CAMPBELL BAY_Govind ...                                   6.00   \n",
       "ANDAMAN & NICOBARS_NICOBAR_CAMPBELL BAY_Joginde...                                   8.00   \n",
       "ANDAMAN & NICOBARS_NICOBAR_CAMPBELL BAY_Sashtri...                                   5.00   \n",
       "ANDAMAN & NICOBARS_NICOBAR_CAR NICOBAR_Big Lapati                                    0.81   \n",
       "ANDAMAN & NICOBARS_NICOBAR_CAR NICOBAR_Chuckchucha                                   1.99   \n",
       "\n",
       "                                                    Irrigation potential created - Rabi  \\\n",
       "State_District_Block/Tehsil_Village                                                       \n",
       "ANDAMAN & NICOBARS_NICOBAR_CAMPBELL BAY_Govind ...                                 5.50   \n",
       "ANDAMAN & NICOBARS_NICOBAR_CAMPBELL BAY_Joginde...                                 8.00   \n",
       "ANDAMAN & NICOBARS_NICOBAR_CAMPBELL BAY_Sashtri...                                 5.00   \n",
       "ANDAMAN & NICOBARS_NICOBAR_CAR NICOBAR_Big Lapati                                  0.71   \n",
       "ANDAMAN & NICOBARS_NICOBAR_CAR NICOBAR_Chuckchucha                                 0.70   \n",
       "\n",
       "                                                    Irrigation potential created - Perennial  \\\n",
       "State_District_Block/Tehsil_Village                                                            \n",
       "ANDAMAN & NICOBARS_NICOBAR_CAMPBELL BAY_Govind ...                                       0.0   \n",
       "ANDAMAN & NICOBARS_NICOBAR_CAMPBELL BAY_Joginde...                                       0.0   \n",
       "ANDAMAN & NICOBARS_NICOBAR_CAMPBELL BAY_Sashtri...                                       0.0   \n",
       "ANDAMAN & NICOBARS_NICOBAR_CAR NICOBAR_Big Lapati                                        0.0   \n",
       "ANDAMAN & NICOBARS_NICOBAR_CAR NICOBAR_Chuckchucha                                       0.0   \n",
       "\n",
       "                                                    Irrigation potential created - Other  \n",
       "State_District_Block/Tehsil_Village                                                       \n",
       "ANDAMAN & NICOBARS_NICOBAR_CAMPBELL BAY_Govind ...                                   0.0  \n",
       "ANDAMAN & NICOBARS_NICOBAR_CAMPBELL BAY_Joginde...                                   0.0  \n",
       "ANDAMAN & NICOBARS_NICOBAR_CAMPBELL BAY_Sashtri...                                   0.0  \n",
       "ANDAMAN & NICOBARS_NICOBAR_CAR NICOBAR_Big Lapati                                    0.0  \n",
       "ANDAMAN & NICOBARS_NICOBAR_CAR NICOBAR_Chuckchucha                                   0.0  "
      ]
     },
     "execution_count": 23,
     "metadata": {},
     "output_type": "execute_result"
    }
   ],
   "source": [
    "df5.head()"
   ]
  },
  {
   "cell_type": "code",
   "execution_count": 24,
   "metadata": {},
   "outputs": [
    {
     "data": {
      "text/plain": [
       "+ve    690467\n",
       "0      439793\n",
       "dtype: int64"
      ]
     },
     "execution_count": 24,
     "metadata": {},
     "output_type": "execute_result"
    }
   ],
   "source": [
    "df3.applymap(lambda x : '-ve' if x<0 else '0' if x==0 else '+ve').stack().value_counts()"
   ]
  },
  {
   "cell_type": "code",
   "execution_count": 25,
   "metadata": {},
   "outputs": [
    {
     "data": {
      "text/plain": [
       "+ve    680905\n",
       "0      449090\n",
       "-ve       265\n",
       "dtype: int64"
      ]
     },
     "execution_count": 25,
     "metadata": {},
     "output_type": "execute_result"
    }
   ],
   "source": [
    "df5.applymap(lambda x : '-ve' if x<0 else '0' if x==0 else '+ve').stack().value_counts()"
   ]
  },
  {
   "cell_type": "code",
   "execution_count": null,
   "metadata": {},
   "outputs": [],
   "source": []
  }
 ],
 "metadata": {
  "kernelspec": {
   "display_name": "Python 3",
   "language": "python",
   "name": "python3"
  },
  "language_info": {
   "codemirror_mode": {
    "name": "ipython",
    "version": 3
   },
   "file_extension": ".py",
   "mimetype": "text/x-python",
   "name": "python",
   "nbconvert_exporter": "python",
   "pygments_lexer": "ipython3",
   "version": "3.7.4"
  }
 },
 "nbformat": 4,
 "nbformat_minor": 2
}
